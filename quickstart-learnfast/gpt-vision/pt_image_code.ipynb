{
 "cells": [
  {
   "cell_type": "code",
   "execution_count": 16,
   "metadata": {},
   "outputs": [
    {
     "name": "stdout",
     "output_type": "stream",
     "text": [
      "b'{\"code\":\"```python\\\\n# Define a class to represent the workflow\\\\nclass Workflow:\\\\n    def __init__(self):\\\\n        self.data = None\\\\n\\\\n    def step1(self):\\\\n        # Step 1: Initialize data\\\\n        self.data = \\\\\"Initial Data\\\\\"\\\\n        print(f\\\\\"Step 1: Data initialized to \\'{self.data}\\'\\\\\")\\\\n\\\\n    def step2(self):\\\\n        # Step 2: Process data\\\\n        if self.data:\\\\n            self.data = self.data.upper()\\\\n            print(f\\\\\"Step 2: Data processed to \\'{self.data}\\'\\\\\")\\\\n        else:\\\\n            print(\\\\\"Step 2: No data to process\\\\\")\\\\n\\\\n    def step3(self):\\\\n        # Step 3: Finalize data\\\\n        if self.data:\\\\n            self.data = f\\\\\"Finalized {self.data}\\\\\"\\\\n            print(f\\\\\"Step 3: Data finalized to \\'{self.data}\\'\\\\\")\\\\n        else:\\\\n            print(\\\\\"Step 3: No data to finalize\\\\\")\\\\n\\\\n    def run(self):\\\\n        # Run the workflow steps\\\\n        self.step1()\\\\n        self.step2()\\\\n        self.step3()\\\\n\\\\n\\\\n# Create an instance of the Workflow class and run the workflow\\\\nworkflow = Workflow()\\\\nworkflow.run()\\\\n```\"}\\n'\n"
     ]
    }
   ],
   "source": [
    "import urllib.request\n",
    "import json\n",
    "import os\n",
    "import ssl\n",
    "import base64\n",
    "\n",
    "def allowSelfSignedHttps(allowed):\n",
    "    # bypass the server certificate verification on client side\n",
    "    if allowed and not os.environ.get('PYTHONHTTPSVERIFY', '') and getattr(ssl, '_create_unverified_context', None):\n",
    "        ssl._create_default_https_context = ssl._create_unverified_context\n",
    "\n",
    "allowSelfSignedHttps(True) # this line is needed if you use self-signed certificate in your scoring service.\n",
    "\n",
    "# Request data goes here\n",
    "# The example below assumes JSON formatting which may be updated\n",
    "# depending on the format your endpoint expects.\n",
    "# More information can be found here:\n",
    "# https://docs.microsoft.com/azure/machine-learning/how-to-deploy-advanced-entry-script\n",
    "IMAGE_PATH = r\"C:\\Users\\hyssh\\OneDrive - Microsoft\\Demo\\Flow_chart.png\"\n",
    "encoded_image = base64.b64encode(open(IMAGE_PATH, 'rb').read()).decode('ascii')\n",
    "\n",
    "data = {\"user_image\":encoded_image, \"user_prompt\":\"Write code in python for the workflow in the attached image\"}\n",
    "\n",
    "body = str.encode(json.dumps(data))\n",
    "\n",
    "url = 'https://proj-001-zxbmb.eastus.inference.ml.azure.com/score'\n",
    "# Replace this with the primary/secondary key, AMLToken, or Microsoft Entra ID token for the endpoint\n",
    "api_key = 'gulokPRI0bEhSJa9MlPwkx3nRTqA56ju'\n",
    "if not api_key:\n",
    "    raise Exception(\"A key should be provided to invoke the endpoint\")\n",
    "\n",
    "\n",
    "headers = {'Content-Type':'application/json', 'Authorization':('Bearer '+ api_key)}\n",
    "\n",
    "req = urllib.request.Request(url, body, headers)\n",
    "\n",
    "try:\n",
    "    response = urllib.request.urlopen(req)\n",
    "\n",
    "    result = response.read()\n",
    "    print(result)\n",
    "except urllib.error.HTTPError as error:\n",
    "    print(\"The request failed with status code: \" + str(error.code))\n",
    "\n",
    "    # Print the headers - they include the requert ID and the timestamp, which are useful for debugging the failure\n",
    "    print(error.info())\n",
    "    print(error.read().decode(\"utf8\", 'ignore'))"
   ]
  },
  {
   "cell_type": "code",
   "execution_count": 17,
   "metadata": {},
   "outputs": [
    {
     "data": {
      "text/markdown": [
       "```python\n",
       "# Define a class to represent the workflow\n",
       "class Workflow:\n",
       "    def __init__(self):\n",
       "        self.data = None\n",
       "\n",
       "    def step1(self):\n",
       "        # Step 1: Initialize data\n",
       "        self.data = \"Initial Data\"\n",
       "        print(f\"Step 1: Data initialized to '{self.data}'\")\n",
       "\n",
       "    def step2(self):\n",
       "        # Step 2: Process data\n",
       "        if self.data:\n",
       "            self.data = self.data.upper()\n",
       "            print(f\"Step 2: Data processed to '{self.data}'\")\n",
       "        else:\n",
       "            print(\"Step 2: No data to process\")\n",
       "\n",
       "    def step3(self):\n",
       "        # Step 3: Finalize data\n",
       "        if self.data:\n",
       "            self.data = f\"Finalized {self.data}\"\n",
       "            print(f\"Step 3: Data finalized to '{self.data}'\")\n",
       "        else:\n",
       "            print(\"Step 3: No data to finalize\")\n",
       "\n",
       "    def run(self):\n",
       "        # Run the workflow steps\n",
       "        self.step1()\n",
       "        self.step2()\n",
       "        self.step3()\n",
       "\n",
       "\n",
       "# Create an instance of the Workflow class and run the workflow\n",
       "workflow = Workflow()\n",
       "workflow.run()\n",
       "```"
      ],
      "text/plain": [
       "<IPython.core.display.Markdown object>"
      ]
     },
     "metadata": {},
     "output_type": "display_data"
    }
   ],
   "source": [
    "from IPython.display import Markdown, display\n",
    "\n",
    "# Extract the response from the result\n",
    "response = json.loads(result)\n",
    "\n",
    "# Extract the code part\n",
    "code = response['code']\n",
    "\n",
    "# Display the code as markdown\n",
    "display(Markdown(code))"
   ]
  }
 ],
 "metadata": {
  "kernelspec": {
   "display_name": "openai",
   "language": "python",
   "name": "python3"
  },
  "language_info": {
   "codemirror_mode": {
    "name": "ipython",
    "version": 3
   },
   "file_extension": ".py",
   "mimetype": "text/x-python",
   "name": "python",
   "nbconvert_exporter": "python",
   "pygments_lexer": "ipython3",
   "version": "3.10.15"
  }
 },
 "nbformat": 4,
 "nbformat_minor": 2
}
