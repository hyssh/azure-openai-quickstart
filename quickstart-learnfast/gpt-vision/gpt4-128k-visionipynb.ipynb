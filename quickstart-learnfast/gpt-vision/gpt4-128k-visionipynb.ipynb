{
 "cells": [
  {
   "cell_type": "markdown",
   "metadata": {},
   "source": [
    "## GPT 4 Vision\n",
    "\n",
    "### Use GPT 4 Vision for AI application architecture\n",
    "\n",
    "Users can send images and based on the images GPT4 will undertand and reponse to the users"
   ]
  },
  {
   "cell_type": "code",
   "execution_count": 23,
   "metadata": {},
   "outputs": [],
   "source": [
    "import os\n",
    "import openai\n",
    "from dotenv import load_dotenv\n",
    "from IPython.display import Markdown, display\n",
    "\n",
    "\n",
    "load_dotenv(dotenv_path=\"./.env\", override=True)\n",
    "\n",
    "openai.api_key = os.getenv(\"OPENAI_API_KEY\")\n",
    "openai.api_version = os.getenv(\"OPENAI_API_VERSION\")\n",
    "openai.api_type = \"azure\"\n",
    "openai.api_base = os.getenv(\"OPENAI_API_BASE\")\n",
    "ENGINE = os.getenv(\"ENGINE\")"
   ]
  },
  {
   "cell_type": "markdown",
   "metadata": {},
   "source": [
    "## Images\n",
    "\n",
    "There are three images that explaining how to architect AI Application.\n",
    "|Image 1|Image 2|Image 3|\n",
    "|-|-|-|\n",
    "|![](https://github.com/hyssh/azure-openai-quickstart/blob/main/images/usecase0.png?raw=true)|![](https://github.com/hyssh/azure-openai-quickstart/blob/main/images/usecase1.png?raw=true)|![](https://github.com/hyssh/azure-openai-quickstart/blob/main/images/usecase4.png?raw=true)|\n",
    "\n",
    "Use GPT4 Vision to understand the image and then start to design AI Application architecture "
   ]
  },
  {
   "cell_type": "code",
   "execution_count": 26,
   "metadata": {},
   "outputs": [
    {
     "data": {
      "text/markdown": [
       "# Designing an AI Application\n",
       "\n",
       "Designing an AI application involves several key components that ensure the system is efficient, scalable, and meets the user's needs. Below is an explanation of the design process using conceptual architecture.\n",
       "\n",
       "## Understanding Use Cases\n",
       "\n",
       "Before diving into the technical architecture, it's crucial to analyze the use cases that the AI application will serve. The diagram below helps in determining the type of application you are building based on data requirements and user involvement:\n",
       "\n",
       "![AI Use Cases](https://github.com/hyssh/azure-openai-quickstart/blob/main/images/usecase0.png?raw=true)\n",
       "\n",
       "Depending on whether the data is context-dependent, provided by the user, and the volume of data, you will categorize your app into simple, limited use case, or sophisticated AI apps. Each has its own conceptual architecture aligning with its use case complexity.\n",
       "\n",
       "## Conceptual Architecture Framework\n",
       "\n",
       "The architecture of an AI application can be conceptualized into four logical layers: Source, Ingest, Store, Processing, and Serve. Monitoring and Identity Access are crucial support layers across these logical layers.\n",
       "\n",
       "![Conceptual Architecture](https://github.com/hyssh/azure-openai-quickstart/blob/main/images/usecase1.png?raw=true)\n",
       "\n",
       "- **Source**: The origin of data that will feed into the AI system.\n",
       "- **Ingest**: The process of extracting and loading the data from the source to the store.\n",
       "- **Store**: The database or storage system where data is saved and made accessible for processing.\n",
       "- **Processing**: The computational logic where AI algorithms (such as text understanding, summarization, and embeddings) operate.\n",
       "- **Serve**: The user-facing layer where outputs from the AI are displayed, often a web app or chat interface.\n",
       "\n",
       "Monitoring covers tracking the users' prompts and responses while Identity Access involves controls on service and content.\n",
       "\n",
       "## Data-Heavy AI Chat Application Architecture\n",
       "\n",
       "For AI applications that need to handle a large volume of data, like chat applications, the architecture emphasizes robust data ingestion, storage, and retrieval mechanisms.\n",
       "\n",
       "![Conceptual Architecture for AI Chat](https://github.com/hyssh/azure-openai-quickstart/blob/main/images/usecase4.png?raw=true)\n",
       "\n",
       "This involves initial and incremental data updates, a reliable storage system, and an efficient processing layer capable of summarizing or generating content based on retrieval data, all culminating in a responsive user interface.\n",
       "\n",
       "## Conclusion\n",
       "\n",
       "Designing an AI application is about understanding the user's needs and creating an architecture that can handle the complexity of data processing and interactions effectively. By categorizing your app's use cases and aligning them with a logical architecture framework, you ensure that your AI application is built on a solid foundation. Monitoring and Identity Access are essential in maintaining the system's integrity and ensuring a secure user experience."
      ],
      "text/plain": [
       "<IPython.core.display.Markdown object>"
      ]
     },
     "execution_count": 26,
     "metadata": {},
     "output_type": "execute_result"
    }
   ],
   "source": [
    "response = openai.ChatCompletion.create(\n",
    "  engine=ENGINE,\n",
    "  messages=[\n",
    "    {\n",
    "        \"role\":\"system\", \n",
    "        \"content\":\"You are a Technical Architect who desings AI Application. You are going to explain how to design AI App. Use images to explain your answer. The images are limited to url from the uers' examples https://github.com/hyssh/azure-openai-quickstart/blob/main/images/usecase0.png?raw=true https://github.com/hyssh/azure-openai-quickstart/blob/main/images/usecase1.png?raw=true https://github.com/hyssh/azure-openai-quickstart/blob/main/images/usecase4.png?raw=true\"\n",
    "    },\n",
    "    {\n",
    "      \"role\": \"user\",\n",
    "      \"content\": [\n",
    "        {\"type\": \"text\", \n",
    "         \"text\": \"I am working on a project to build an AI application. Explain how to design AI App. Retrun your response as well formatted markdown\"},\n",
    "        {\n",
    "          \"type\": \"image_url\",\n",
    "          \"image_url\": {\n",
    "            \"url\": \"https://github.com/hyssh/azure-openai-quickstart/blob/main/images/usecase0.png?raw=true\",\n",
    "          },\n",
    "        },\n",
    "        {\n",
    "          \"type\": \"image_url\",\n",
    "          \"image_url\": {\n",
    "            \"url\": \"https://github.com/hyssh/azure-openai-quickstart/blob/main/images/usecase1.png?raw=true\",\n",
    "          },\n",
    "        },\n",
    "        {\n",
    "          \"type\": \"image_url\",\n",
    "          \"image_url\": {\n",
    "            \"url\": \"https://github.com/hyssh/azure-openai-quickstart/blob/main/images/usecase4.png?raw=true\",\n",
    "          },\n",
    "        },\n",
    "      ],\n",
    "    }\n",
    "  ],\n",
    "  max_tokens=4096,\n",
    ")\n",
    "\n",
    "explain = response.choices[0].message['content']\n",
    "Markdown(explain)"
   ]
  },
  {
   "cell_type": "code",
   "execution_count": null,
   "metadata": {},
   "outputs": [],
   "source": [
    "# end of notebook"
   ]
  }
 ],
 "metadata": {
  "kernelspec": {
   "display_name": "openai",
   "language": "python",
   "name": "python3"
  },
  "language_info": {
   "codemirror_mode": {
    "name": "ipython",
    "version": 3
   },
   "file_extension": ".py",
   "mimetype": "text/x-python",
   "name": "python",
   "nbconvert_exporter": "python",
   "pygments_lexer": "ipython3",
   "version": "3.10.11"
  }
 },
 "nbformat": 4,
 "nbformat_minor": 2
}
