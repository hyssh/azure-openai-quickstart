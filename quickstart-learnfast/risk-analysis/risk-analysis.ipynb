{
 "cells": [
  {
   "cell_type": "code",
   "execution_count": 1,
   "metadata": {},
   "outputs": [],
   "source": [
    "import os\n",
    "import requests\n",
    "from bs4 import BeautifulSoup\n",
    "import json\n",
    "import pandas as pd\n",
    "from dotenv import load_dotenv\n",
    "from demo_utils import demo_utils\n",
    "from IPython.display import Markdown\n",
    "\n",
    "utils = demo_utils()"
   ]
  },
  {
   "cell_type": "code",
   "execution_count": 2,
   "metadata": {},
   "outputs": [],
   "source": [
    "web_source = \"https://www.reuters.com/article/us-microsoft-openai-idUSKCN1UH1H9\"\n",
    "# web_source = \"https://www.forbes.com/sites/alexandrawrage/2020/07/15/global-pharmaceutical-corruption-lessons-from-the-novartis-case/?sh=44a80a3d489b\"\n",
    "# web_source = \"https://news.yahoo.com/roche-settles-us-patent-lawsuit-192754918.html?guccounter=1&guce_referrer=aHR0cHM6Ly93d3cuYmluZy5jb20v&guce_referrer_sig=AQAAAK6fUHnquLKmeAmg_6j8mLXq9JAsj1xlCDfKz3IgTDuPGbCND7nAVM50xH3kA4Y_l-S_PuQhY_gle227YRnvqhyaVpnSL0p_NdIpHhsk-pPhloY7x1HK_aDnAm4R35zM8anwEO9629Qv1RXfK6tva3mTfxe3HJQw2DnMtZnYelrF\""
   ]
  },
  {
   "cell_type": "code",
   "execution_count": 3,
   "metadata": {},
   "outputs": [
    {
     "name": "stdout",
     "output_type": "stream",
     "text": [
      "<title>Microsoft to invest $1 billion in OpenAI | Reuters</title> \n",
      " Discover Thomson ReutersBy Stephen Nellis3 Min Read(Reuters) - Microsoft Corp said on Monday it was investing $1 billion in San Francisco-based OpenAI and that the two had formed a multi-year partnership to develop artificial intelligence supercomputing technologies on Microsoft’s Azure cloud computing service.OpenAI was founded in 2015 as a nonprofit with $1 billion in funding from Silicon Valley investors Sam Altman, Peter Thiel and LinkedIn co-founder Reid Hoffman, among others. Earlier this year, the group created a related for-profit entity to take in outside investment.Since its founding, OpenAI has employed artificial intelligence researchers to make advances in the field, such as teaching a robotic hand to perform human-like tasks entirely in software, cutting down the cost and time to train robots.The group has also focused on the safety and social implications of AI, researching how computers can generate realistic news stories with little more than headline suggestions and warning researchers to consider how their work and algorithms might be misused by bad actors before publishing them.OpenAI said the Microsoft investment would help it pursue “artificial general intelligence,” or AGI. An AGI is the holy grail of the field and would mean the computing system can master a subject as well or better than the best humans in the world - and master more fields than any single human.“We believe it’s crucial that AGI is deployed safely and securely and that its economic benefits are widely distributed,” Altman said in a statement. “We are excited about how deeply Microsoft shares this vision.”Microsoft said the two companies would jointly build new AI technologies on Microsoft’s Azure cloud computing service. The two also said that OpenAI would move many, though not all, of its services to Azure and that Microsoft would be its “preferred” partner to commercialize new services.The two parties declined to answer questions from Reuters about the terms of the deal. Earlier this year, OpenAI created a for-profit limited partnership to take outside investment. The for-profit entity is ultimately controlled by the nonprofit’s board.When OpenAI created the structure in March, it said investors who put money into the for-profit entity would have their returns capped and that the nonprofit’s mission would take precedence over turning a profit.Microsoft and OpenAI declined to answer questions about whether and how Microsoft’s return on its $1 billion investment would be capped, or how any revenue and profits from jointly developed technologies would be shared.The two firms also declined to say whether Microsoft’s investment would be made in cash, or whether it would involve credits for the Azure cloud computing service.Cloud computing services are a major cost for OpenAI, which spent $7.9 million on cloud computing in the 2017 tax year, or about a quarter of its total functional expenses for that year, according to filings with the U.S. Internal Revenue Service.Reporting by Stephen Nellis in San Francisco; Editing by Peter CooneyOur Standards: The Thomson Reuters Trust Principles.All quotes delayed a minimum of 15 minutes. See here for a complete list of exchanges and delays.\n"
     ]
    }
   ],
   "source": [
    "# web scraping\n",
    "# get a web page\n",
    "web_page = requests.get(web_source)\n",
    "# parse the web page\n",
    "web_soup = BeautifulSoup(web_page.content, 'html.parser')\n",
    "# get the title\n",
    "web_title = web_soup.find('title')\n",
    "# get the article\n",
    "web_article = web_soup.find_all('p')\n",
    "# get the text\n",
    "web_text = [p.get_text() for p in web_article]\n",
    "plan_text = ''.join(web_text)\n",
    "print(web_title, \"\\n\",\n",
    "      plan_text)"
   ]
  },
  {
   "cell_type": "code",
   "execution_count": 4,
   "metadata": {},
   "outputs": [],
   "source": [
    "system_message = \"\"\"\n",
    "You're complinace reviewer. \n",
    "You need to collect and extract meaingful data from email, document, web page, etc.\n",
    "\n",
    "Include following meta data for the analysis\n",
    "* Source\n",
    " * Type: {Email, Document, Web page, etc.}\n",
    "\n",
    "Extract data \n",
    "* Title\n",
    "* Summary\n",
    "* Organization names\n",
    "* Organization industries\n",
    "* People\n",
    " * Name \n",
    " * Organization\n",
    "* Events\n",
    "    * Event name\n",
    "    * Event date and/or time\n",
    "    * Event location\n",
    "\"\"\""
   ]
  },
  {
   "cell_type": "code",
   "execution_count": 5,
   "metadata": {},
   "outputs": [],
   "source": [
    "user_prompt = \"\"\"\n",
    "--- article ---\n",
    "Title: {{title}}\n",
    "\n",
    "{{web_data}}\n",
    "------\n",
    "\n",
    "\"\"\""
   ]
  },
  {
   "cell_type": "code",
   "execution_count": 6,
   "metadata": {},
   "outputs": [
    {
     "name": "stdout",
     "output_type": "stream",
     "text": [
      "Source\n",
      "* Type: Web page\n",
      "\n",
      "Extracted Data\n",
      "* Title: Microsoft to invest $1 billion in OpenAI | Reuters\n",
      "* Summary: Microsoft Corp announced a $1 billion investment in San Francisco-based OpenAI, forming a multi-year partnership to develop artificial intelligence supercomputing technologies on Microsoft’s Azure cloud computing service. OpenAI, founded in 2015, has been working on advances in AI and focuses on the safety and social implications of AI. The Microsoft investment will help OpenAI pursue “artificial general intelligence,” or AGI. The two companies will jointly build new AI technologies on Microsoft’s Azure cloud computing service.\n",
      "* Organization names: Microsoft Corp, OpenAI, Reuters\n",
      "* Organization industries: Technology, News Media\n",
      "* People\n",
      " * Name: Sam Altman, Peter Thiel, Reid Hoffman, Stephen Nellis, Peter Cooney\n",
      " * Organization: OpenAI, LinkedIn, Reuters\n",
      "* Events\n",
      "    * Event name: Microsoft's investment in OpenAI\n",
      "    * Event date and/or time: Not specified\n",
      "    * Event location: San Francisco\n"
     ]
    }
   ],
   "source": [
    "system_msg = {\"role\":\"system\",\"content\":system_message}\n",
    "user_msg = {\"role\":\"user\",\"content\":user_prompt.replace(\"{{title}}\", web_title.get_text()).replace(\"{{web_data}}\", plan_text)}\n",
    "prompt_insights = [system_msg, user_msg]\n",
    "res = utils.run(prompt_insights, temperature=0.0, max_tokens=2500, top_p=0.0)\n",
    "print(res)"
   ]
  },
  {
   "cell_type": "code",
   "execution_count": 7,
   "metadata": {},
   "outputs": [
    {
     "name": "stdout",
     "output_type": "stream",
     "text": [
      "\n",
      "{\n",
      "    \"SourceType\":\"WebPage\",\n",
      "    \"Title\": \"Microsoft to invest $1 billion in OpenAI | Reuters\",\n",
      "    \"Summary\":\"Microsoft Corp announced a $1 billion investment in San Francisco-based OpenAI. The two companies have formed a multi-year partnership to develop artificial intelligence supercomputing technologies on Microsoft’s Azure cloud computing service. OpenAI was founded in 2015 and has been focusing on the safety and social implications of AI. The Microsoft investment will help OpenAI pursue 'artificial general intelligence' (AGI).\",\n",
      "    \"Organizations\":[\n",
      "        {\n",
      "            \"Name\":\"Microsoft Corp\",\n",
      "            \"Industry\":\"Technology\"\n",
      "        },\n",
      "        {\n",
      "            \"Name\":\"OpenAI\",\n",
      "            \"Industry\":\"Artificial Intelligence\"\n",
      "        }\n",
      "    ],\n",
      "    \"People\":[\n",
      "        {\n",
      "            \"Name\":\"Sam Altman\",\n",
      "            \"Organization\":\"OpenAI\"\n",
      "        },\n",
      "        {\n",
      "            \"Name\":\"Peter Thiel\",\n",
      "            \"Organization\":\"OpenAI\"\n",
      "        },\n",
      "        {\n",
      "            \"Name\":\"Reid Hoffman\",\n",
      "            \"Organization\":\"OpenAI\"\n",
      "        }\n",
      "    ],\n",
      "    \"Events\":[\n",
      "        {\n",
      "            \"Name\":\"Investment Announcement\",\n",
      "            \"Date\":\"Unknown\",\n",
      "            \"Location\":\"San Francisco\"\n",
      "        }\n",
      "    ]\n",
      "}\n",
      "\n"
     ]
    }
   ],
   "source": [
    "system_message2 = \"\"\"\n",
    "You're complinace reviewer. \n",
    "You need to collect and extract meaingful data from email, document, web page, etc.\n",
    "Summary must be concise and clear, less than 150 words.\n",
    "\n",
    "Include following meta data for the analysis\n",
    "* Source\n",
    " * Type: {Email, Document, Web page, etc.}\n",
    "\n",
    "Extract data \n",
    "* Title\n",
    "* Summary\n",
    "* Organization names\n",
    "* Organization industries\n",
    "* People\n",
    " * Name \n",
    " * Organization\n",
    "* Events\n",
    "    * Event name\n",
    "    * Event date and/or time\n",
    "    * Event location\n",
    "\n",
    "## Reponse \n",
    "Use JSON format\n",
    "\n",
    "## Response example\n",
    "```\n",
    "{\n",
    "    \"SourceType\":\"WebPage\",\n",
    "    \"Title\": \"Big announcement from A about B\"\n",
    "    \"Summary\":\"A made an announcement about B.\",\n",
    "    \"Organizations\":[\n",
    "        {\n",
    "            \"Name\":\"A\",\n",
    "            \"Industry\":\"Technology\"\n",
    "        },\n",
    "        {\n",
    "            \"Name\":\"B\",\n",
    "            \"Industry\":\"Technology\"\n",
    "        }\n",
    "    ],\n",
    "    \"People\":[\n",
    "        {\n",
    "            \"Name\":\"C\",\n",
    "            \"Organization\":\"A\"\n",
    "        },\n",
    "        {\n",
    "            \"Name\":\"D\",\n",
    "            \"Organization\":\"B\"\n",
    "        }\n",
    "    ],\n",
    "    \"Events\":[\n",
    "        {\n",
    "            \"Name\":\"Announcement\",\n",
    "            \"Date\":\"2021-07-01T00:00:00Z\",\n",
    "            \"Location\":\"US\"\n",
    "        }\n",
    "    ]\n",
    "}\n",
    "```\n",
    "\"\"\"\n",
    "\n",
    "user_prompt2 = \"\"\"\n",
    "--- article ---\n",
    "Title: {{title}}\n",
    "\n",
    "{{web_data}}\n",
    "------\n",
    "\n",
    "\"\"\"\n",
    "\n",
    "system_msg2 = {\"role\":\"system\",\"content\":system_message2}\n",
    "user_msg2 = {\"role\":\"user\",\"content\":user_prompt2.replace(\"{{title}}\", web_title.get_text()).replace(\"{{web_data}}\", plan_text)}\n",
    "prompt2 = [system_msg2, user_msg2]\n",
    "res2 = utils.run(prompt2, temperature=0.0, max_tokens=2500, top_p=0.0)\n",
    "result2 = res2.split(\"```\")[1]\n",
    "print(result2)"
   ]
  },
  {
   "cell_type": "code",
   "execution_count": 8,
   "metadata": {},
   "outputs": [],
   "source": [
    "system_message3 = \"\"\"\n",
    "You are a compliance reviewer who monitors the news for compliance issues in an aduit team in a technology company.\n",
    "The Find a Anti-Bribery and Anti-Corruption case.\n",
    "\n",
    "## Review tasks\n",
    "\n",
    "### 1. Explain relationship between people and organization\n",
    "Understand the relationships between different people and organizations in the case.\n",
    "Explain the relationship\n",
    "\n",
    "### 2. Clssify the case\n",
    "Classify the case has a potential compliance issue or not.\n",
    "And explain when the event is classified.\n",
    "\n",
    "## Reponse\n",
    "Do not reveal the review task steps\n",
    "Your response must be concise and clear and use Markdown format\n",
    "Provide visual to show relationship between people and organization\n",
    "Provide clear result at the end of the response Compliance issue or No issue with risk level, 0 is no risk, 10 is high risk\n",
    "\n",
    "### Visual sample\n",
    "Use '-, |, <, >, ...' to show relationship\n",
    "A --- B --- C\n",
    "      |\n",
    "      |\n",
    "      V\n",
    "     abc, deb, gh \n",
    "\n",
    "### Results\n",
    "Risk level: ##/10\n",
    "\"\"\"\n",
    "\n",
    "user_prompt3 = \"\"\"\n",
    "--- case ---\n",
    "{{case_data}}\n",
    "------\n",
    "\"\"\""
   ]
  },
  {
   "cell_type": "code",
   "execution_count": 9,
   "metadata": {},
   "outputs": [
    {
     "data": {
      "text/markdown": [
       "### Relationship between People and Organization\n",
       "\n",
       "In this case, we have two organizations involved: Microsoft Corp and OpenAI. Microsoft Corp is a technology company that announced a $1 billion investment in OpenAI, a San Francisco-based company focusing on artificial intelligence.\n",
       "\n",
       "Three individuals are mentioned in the case: Sam Altman, Peter Thiel, and Reid Hoffman. All three are associated with OpenAI.\n",
       "\n",
       "The relationship can be visualized as follows:\n",
       "\n",
       "```\n",
       "Microsoft Corp --- $1 billion investment ---> OpenAI\n",
       "                                               ^\n",
       "                                               |\n",
       "                                               |\n",
       "                                               V\n",
       "                                  Sam Altman, Peter Thiel, Reid Hoffman\n",
       "```\n",
       "\n",
       "### Classification of the Case\n",
       "\n",
       "This case does not appear to involve any anti-bribery or anti-corruption issues. The event described is a legitimate business transaction: an investment by Microsoft Corp in OpenAI to develop artificial intelligence technologies. There is no indication of any illicit activities or violations of compliance regulations.\n",
       "\n",
       "### Results\n",
       "\n",
       "Risk level: 0/10\n",
       "\n",
       "This case does not present a compliance issue."
      ],
      "text/plain": [
       "<IPython.core.display.Markdown object>"
      ]
     },
     "metadata": {},
     "output_type": "display_data"
    }
   ],
   "source": [
    "\n",
    "system_msg3 = {\"role\":\"system\",\"content\":system_message3}\n",
    "user_msg3 = {\"role\":\"user\",\"content\":user_prompt3.replace(\"{{case_data}}\", result2)}\n",
    "prompt3 = [system_msg3, user_msg3]\n",
    "res3 = utils.run(prompt3, temperature=1.0, max_tokens=2500, top_p=0.0)\n",
    "display(Markdown(res3))"
   ]
  },
  {
   "cell_type": "code",
   "execution_count": 10,
   "metadata": {},
   "outputs": [],
   "source": [
    "sample_case = \"\"\"\n",
    "8/25/2022\tCall with Nicolas Cage\n",
    "9/15/2022\tCall with Nicolas Cage\n",
    "9/21/2022\tNicolas Cage becomes President of ABCD Cardiology Association\n",
    "9/27/2022\tSponsorship payment of 1000 to ABCD Cardiology Association\n",
    "10/3/2022\tCall with Nicolas Cage\n",
    "11/4/2022\tNicolas Cage announced as future member of ABCD Ministry of Health Formulary Committee\n",
    "11/12/2022\tCall with Nicolas Cage\n",
    "11/20/2022\tSponsorship payment of 500 to ABCD Cardiology Association\n",
    "12/16/2022\tCall with Nicolas Cage\n",
    "1/1/2023\tNicolas Cage effective as member of ABCD Ministry of Health Formulary Committee\n",
    "1/11/2023\tCall with Nicolas Cage\n",
    "1/17/2023\tSponsorship payment of 500 to ABCD Cardiology Association\n",
    "1/23/2023\tABCD Ministry of Health Formulary Committee approves new indication for XYZ cardiology medicine \n",
    "2/14/2023\tImproper behaviour at ABCD Cardiology Association event\n",
    "\"\"\""
   ]
  },
  {
   "cell_type": "code",
   "execution_count": 12,
   "metadata": {},
   "outputs": [
    {
     "data": {
      "text/markdown": [
       "### Relationship between people and organization\n",
       "\n",
       "Nicolas Cage is a key figure in this case. He has a dual role, serving as the President of the ABCD Cardiology Association and as a member of the ABCD Ministry of Health Formulary Committee. The technology company, represented by an unknown entity, has had multiple calls with Nicolas Cage and has made sponsorship payments to the ABCD Cardiology Association. \n",
       "\n",
       "The relationship can be visualized as follows:\n",
       "\n",
       "```\n",
       "Nicolas Cage --- President of ---> ABCD Cardiology Association\n",
       "       |                             |\n",
       "       |                             |\n",
       "       V                             V\n",
       "Technology Company --- Sponsorship Payments ---> ABCD Cardiology Association\n",
       "       |\n",
       "       |\n",
       "       V\n",
       "Nicolas Cage --- Member of ---> ABCD Ministry of Health Formulary Committee\n",
       "```\n",
       "\n",
       "### Classification of the case\n",
       "\n",
       "This case has potential compliance issues. The timing of the sponsorship payments to the ABCD Cardiology Association, the calls with Nicolas Cage, and the approval of a new indication for XYZ cardiology medicine by the ABCD Ministry of Health Formulary Committee could suggest a potential bribery or corruption issue. \n",
       "\n",
       "The event is classified as a potential compliance issue from the point where Nicolas Cage becomes a member of the ABCD Ministry of Health Formulary Committee and the company continues to make sponsorship payments to the ABCD Cardiology Association. The improper behavior at the ABCD Cardiology Association event further raises concerns about the nature of the relationship between the company and Nicolas Cage.\n",
       "\n",
       "### Results\n",
       "\n",
       "Risk level: 8/10\n",
       "\n",
       "This case presents a high risk due to the potential for bribery or corruption. The timing and nature of the interactions between the company and Nicolas Cage, coupled with his influential positions in both the ABCD Cardiology Association and the ABCD Ministry of Health Formulary Committee, raise significant compliance concerns."
      ],
      "text/plain": [
       "<IPython.core.display.Markdown object>"
      ]
     },
     "metadata": {},
     "output_type": "display_data"
    }
   ],
   "source": [
    "system_msg4 = {\"role\":\"system\",\"content\":system_message3}\n",
    "user_msg4 = {\"role\":\"user\",\"content\":user_prompt3.replace(\"{{case_data}}\", sample_case)}\n",
    "prompt4 = [system_msg4, user_msg4]\n",
    "res4 = utils.run(prompt4, temperature=0.5, max_tokens=1000, top_p=0.0)\n",
    "display(Markdown(res4))"
   ]
  },
  {
   "cell_type": "code",
   "execution_count": null,
   "metadata": {},
   "outputs": [],
   "source": [
    "# End of noteook"
   ]
  }
 ],
 "metadata": {
  "kernelspec": {
   "display_name": "openai",
   "language": "python",
   "name": "python3"
  },
  "language_info": {
   "codemirror_mode": {
    "name": "ipython",
    "version": 3
   },
   "file_extension": ".py",
   "mimetype": "text/x-python",
   "name": "python",
   "nbconvert_exporter": "python",
   "pygments_lexer": "ipython3",
   "version": "3.10.11"
  }
 },
 "nbformat": 4,
 "nbformat_minor": 2
}
