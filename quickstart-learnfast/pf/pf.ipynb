{
 "cells": [
  {
   "cell_type": "code",
   "execution_count": null,
   "metadata": {},
   "outputs": [],
   "source": [
    "import os\n",
    "from dotenv import load_dotenv\n",
    "from pathlib import Path\n",
    "from promptflow.tracing import trace, start_trace\n",
    "from promptflow.core import Prompty\n",
    "\n",
    "# BASE_DIR = Path(__file__).absolute().parent\n",
    "\n",
    "\n",
    "env_path = r\"C:\\Users\\hyssh\\workspace\\azure-openai-quickstart\\.env\"\n",
    "load_dotenv(dotenv_path=env_path, override=True)\n",
    "\n",
    "@trace\n",
    "def chat(question: str = \"What's the capital of France?\") -> str:\n",
    "    \"\"\"Flow entry function.\"\"\" \n",
    "\n",
    "    start_trace()\n",
    "    prompty = Prompty.load(\"./chat.prompty\")\n",
    "    # trigger a llm call with the prompty obj\n",
    "    output = prompty(question=question)\n",
    "    return output"
   ]
  },
  {
   "cell_type": "code",
   "execution_count": 2,
   "metadata": {},
   "outputs": [
    {
     "name": "stdout",
     "output_type": "stream",
     "text": [
      "Prompt flow service has started...\n",
      "The capital of France is Paris.\n"
     ]
    }
   ],
   "source": [
    "print(chat())"
   ]
  },
  {
   "cell_type": "code",
   "execution_count": null,
   "metadata": {},
   "outputs": [],
   "source": []
  }
 ],
 "metadata": {
  "kernelspec": {
   "display_name": "aifoundry",
   "language": "python",
   "name": "python3"
  },
  "language_info": {
   "codemirror_mode": {
    "name": "ipython",
    "version": 3
   },
   "file_extension": ".py",
   "mimetype": "text/x-python",
   "name": "python",
   "nbconvert_exporter": "python",
   "pygments_lexer": "ipython3",
   "version": "3.10.16"
  }
 },
 "nbformat": 4,
 "nbformat_minor": 2
}
