{
 "cells": [
  {
   "cell_type": "markdown",
   "metadata": {},
   "source": [
    "1. Process data\n",
    "\n",
    "    1. Read documents\n",
    "    2. Chunk documents\n",
    "    3. Store and index documents"
   ]
  },
  {
   "cell_type": "code",
   "execution_count": 12,
   "metadata": {},
   "outputs": [],
   "source": [
    "import os\n",
    "import json\n",
    "import openai\n",
    "import pandas as pd\n",
    "from dotenv import load_dotenv\n",
    "from langchain.document_loaders import Docx2txtLoader\n",
    "from langchain.text_splitter import RecursiveCharacterTextSplitter, CharacterTextSplitter\n",
    "from demo_utils import demo_utils\n",
    "from openai.embeddings_utils import cosine_similarity\n",
    "from IPython.display import Markdown\n",
    "\n",
    "utils = demo_utils()\n",
    "collection = utils.getorcreatecollection()"
   ]
  },
  {
   "cell_type": "markdown",
   "metadata": {},
   "source": [
    "1.1. Read document"
   ]
  },
  {
   "cell_type": "code",
   "execution_count": 8,
   "metadata": {},
   "outputs": [],
   "source": [
    "CHUNK_SIZE = 5000\n",
    "CHUNK_OVERLAP = CHUNK_SIZE*0.1\n",
    "\n",
    "# get chromadb collnection\n",
    "def docx2txt(filepath, extract_page: bool=False, target_path: str=\"./chunks-txt\", collection=None):\n",
    "    if extract_page:\n",
    "        loader = Docx2txtLoader(filepath)\n",
    "        data = loader.load()\n",
    "        print(data)\n",
    "\n",
    "        prefixfilename  = os.path.splitext(os.path.basename(filepath))[0]\n",
    "\n",
    "        for i in range(0, len(data)):\n",
    "            with open(f\"./{target_path}/{prefixfilename}_{str(i)}.txt\", \"w\") as f:\n",
    "                f.write(data[i].page_content)\n",
    "    else:\n",
    "        loader = Docx2txtLoader(filepath)\n",
    "        data = loader.load()\n",
    "\n",
    "        # text_splitter = RecursiveCharacterTextSplitter(\n",
    "        #     # Set a really small chunk size, just to show.\n",
    "        #     chunk_size = CHUNK_SIZE,\n",
    "        #     chunk_overlap  = CHUNK_OVERLAP,\n",
    "        #     length_function = len,\n",
    "        # )\n",
    "\n",
    "        text_splitter = CharacterTextSplitter(separator=\"\\n\\n\", \n",
    "                                              chunk_size = CHUNK_SIZE, \n",
    "                                              chunk_overlap  = CHUNK_OVERLAP, \n",
    "                                              length_function = len,)\n",
    "\n",
    "        texts = text_splitter.split_documents(data)\n",
    "\n",
    "        i = 0 \n",
    "        prefixfilename  = os.path.splitext(os.path.basename(filepath))[0]\n",
    "        \n",
    "        # if collection is not None:\n",
    "        #     utils.deletecollection()\n",
    "\n",
    "        for t in texts:\n",
    "            # save text as txt file\n",
    "            target_file_name = f\"./{target_path}/{prefixfilename}_{str(i)}\"\n",
    "            with open(f\"./{target_file_name}.txt\", \"w\") as f:\n",
    "                f.write(t.page_content)\n",
    "            if collection is not None:\n",
    "                # save text to chromadb\n",
    "                collection.add(\n",
    "                    documents = [t.page_content],\n",
    "                    ids = [f\"{prefixfilename}_{str(i)}\"]\n",
    "                    )\n"
   ]
  },
  {
   "cell_type": "markdown",
   "metadata": {},
   "source": [
    "1.2. Chunk document \n",
    "\n",
    "Set source and target path to process documents"
   ]
  },
  {
   "cell_type": "code",
   "execution_count": 9,
   "metadata": {},
   "outputs": [
    {
     "name": "stdout",
     "output_type": "stream",
     "text": [
      "[{'source_file_path': 'doc=docx/version=1/Data Protection in Relational Databases v1.docx', 'version': '1'}, {'source_file_path': 'doc=docx/version=2/Data Protection in Relational Databases v2.docx', 'version': '2'}]\n"
     ]
    },
    {
     "name": "stderr",
     "output_type": "stream",
     "text": [
      "Insert of existing embedding ID: Data Protection in Relational Databases v1_0\n",
      "Add of existing embedding ID: Data Protection in Relational Databases v1_0\n",
      "Insert of existing embedding ID: Data Protection in Relational Databases v2_0\n",
      "Add of existing embedding ID: Data Protection in Relational Databases v2_0\n"
     ]
    }
   ],
   "source": [
    "source_path = \"doc=docx\"\n",
    "source_files = []\n",
    "\n",
    "for subfolder in os.listdir(source_path):\n",
    "    for file in os.listdir(f\"{source_path}/{subfolder}\"):\n",
    "        # if file extension is docx\n",
    "        if file.endswith(\".docx\"):\n",
    "            source_file_path = f\"{source_path}/{subfolder}/{file}\"\n",
    "            version = subfolder.split(\"version=\")[1]\n",
    "            source_files.append({\"source_file_path\": source_file_path, \"version\": version})\n",
    "\n",
    "print(source_files)\n",
    "\n",
    "# create a folder named contents=chunks/doc=txt\n",
    "target_path = \"contents=chunks/doc=txt\"\n",
    "if not os.path.exists(f\"./{target_path}\"):\n",
    "    os.makedirs(f\"./{target_path}\")\n",
    "\n",
    "for item in source_files:\n",
    "    os.makedirs(f\"./{target_path}/version={item['version']}\", exist_ok=True)\n",
    "    # delete all files in the folder in the target_path \n",
    "    for file in os.listdir(f\"./{target_path}/version={item['version']}\"):\n",
    "        os.remove(f\"./{target_path}/version={item['version']}/{file}\")\n",
    "    if collection is not None:\n",
    "        docx2txt(item['source_file_path'], extract_page=False, target_path=f\"./{target_path}/version={item['version']}\", collection=collection)\n",
    "    else:\n",
    "        docx2txt(item['source_file_path'], extract_page=False, target_path=f\"./{target_path}/version={item['version']}\")\n"
   ]
  },
  {
   "cell_type": "code",
   "execution_count": null,
   "metadata": {},
   "outputs": [],
   "source": [
    "# if collection is not None:\n",
    "#     # print(\"collection is not None\")\n",
    "#     # save collection to chromadb\n",
    "#     # collection.get(ids=[\"Data Protection in Relational Databases v1_0\"])\n",
    "#     print(collection.query(\n",
    "#         query_texts=[\"encryption\"],\n",
    "#         include=[\"metadatas\", \"documents\", \"distances\"]\n",
    "#     ))"
   ]
  },
  {
   "cell_type": "markdown",
   "metadata": {},
   "source": [
    "Check versions"
   ]
  },
  {
   "cell_type": "code",
   "execution_count": 11,
   "metadata": {},
   "outputs": [
    {
     "name": "stdout",
     "output_type": "stream",
     "text": [
      "['1', '2']\n"
     ]
    }
   ],
   "source": [
    "# get a list of versions from source_files \n",
    "versions = []\n",
    "for item in source_files:\n",
    "    versions.append(item['version'])\n",
    "print(versions)"
   ]
  },
  {
   "cell_type": "markdown",
   "metadata": {},
   "source": [
    "Get the files for both version 1 and version 2"
   ]
  },
  {
   "cell_type": "code",
   "execution_count": null,
   "metadata": {},
   "outputs": [],
   "source": [
    "# read txt from both versions\n",
    "# get the list of chuck files\n",
    "version1_files = []\n",
    "version2_files = []\n",
    "\n",
    "for version in versions:\n",
    "    for file in os.listdir(f\"./{target_path}/version={version}\"):\n",
    "        if os.path.isfile(f\"./{target_path}/version={version}/{file}\"):\n",
    "            if version == \"1\":\n",
    "                version1_files.append(f\"./{target_path}/version={version}/{file}\")\n",
    "            elif version == \"2\":\n",
    "                version2_files.append(f\"./{target_path}/version={version}/{file}\")\n",
    "\n",
    "# print the number of files in each version\n",
    "print(\"Version 1 has\", len(version1_files), \"files\")\n",
    "print(\"Version 2 has\", len(version2_files), \"files\")"
   ]
  },
  {
   "cell_type": "markdown",
   "metadata": {},
   "source": [
    "2. Analysis"
   ]
  },
  {
   "cell_type": "code",
   "execution_count": null,
   "metadata": {},
   "outputs": [],
   "source": [
    "# system_message = \"\"\"\n",
    "# You are a compliance reviewer in a security team. You are responsible for reviewing the compliance policies and providing insights. \n",
    "\n",
    "# ## Review process\n",
    "# There are two versions of the documents with cosine similarity. \n",
    "# If the cosine similarity is less than 0.9, then the reviewer needs to review the differences.\n",
    "# Version 1 has base line. \n",
    "# Version 2 has updated document. \n",
    "\n",
    "# ## Review guideline\n",
    "# Make a markdown table to show the difference that is found during the process.\n",
    "# The table includes Line, Versions, and the exact differences in bold.\n",
    "# If there is no difference, then do not return a table and say \"no difference is found\"\n",
    "# If two documents are completely different then return \"Not able to compare\"\n",
    "# For example, if version 2 has completely different topic or topics than version 1, then return \"Not able to compare\"\n",
    "\n",
    "# ## Response Example\n",
    "# [Use a table to summarize the answers]\n",
    "# |Item Number|Line|Version 1|Version 2|  \n",
    "# |-|-|-|-|  \n",
    "# |1|5|Access control can be implemented at different levels of the database, such as the schema, table, column, row, or cell level.|Access control can be implemented at different levels of the database, such as the schema, table, column, row, or cell level. **The view and the stored procedures also need to have controlled access.**|  \n",
    "# \"\"\""
   ]
  },
  {
   "cell_type": "markdown",
   "metadata": {},
   "source": []
  },
  {
   "cell_type": "code",
   "execution_count": null,
   "metadata": {},
   "outputs": [],
   "source": [
    "system_message = \"\"\"\n",
    "You are a compliance reviewer in a security team. You are responsible for reviewing the compliance policies and providing insights. \n",
    "\n",
    "## Review process\n",
    "There are two versions of the documents with cosine similarity. \n",
    "If the cosine similarity is less than 0.9, then the reviewer needs to review the differences.\n",
    "Version 1 is baseline. \n",
    "Version 2 is new document. \n",
    "\n",
    "## Review guideline\n",
    "### 1. Rule\n",
    "Response in json format that wraped with '```'\n",
    "In the 'note' field, you can add additional information about the difference. added, removed, or modified.\n",
    "\n",
    "### 2. When the two versions are identical\n",
    "Use 'No difference is found' in the note field. \n",
    "Do not retuen 'N/A' in fields, version1 and version2.\n",
    "\n",
    "### 3. When the two versions are off the topic or completely different\n",
    "Use \"Not able to compare\" in the note field.\n",
    "\n",
    "### 4. When the two versions are similar but not identical\n",
    "Return the difference in the field, version1 and version2.\n",
    "\n",
    "## Examples\n",
    "### Example When the two versions are similar but not identical\n",
    "The cosine similarity between the two documents is 0.993.\n",
    "\n",
    "---version 1 --- version1 file name Databases v1_0.txt\n",
    "Access control can be implemented at different levels of the database, such as the schema, table, column, row, or cell level.\n",
    "------\n",
    "\n",
    "---version 2 --- version2 file name Databases v2_0.txt\n",
    "Access control can be implemented at different levels of the database, such as the schema, table, column, row, or cell level. The view and the stored procedures also need to have controlled access.\n",
    "------\n",
    "\n",
    "Your Answer:\n",
    "```\n",
    "{\n",
    "    \"similarity\": 0.993,\n",
    "    \"version1_file_name\":\"Databases v1_0.txt\",\n",
    "    \"version2_file_name\":\"Databases v2_0.txt\",\n",
    "    \"version1\":\"Access control can be implemented at different levels of the database, such as the schema, table, column, row, or cell level.\",\n",
    "    \"version2\":\"Access control can be implemented at different levels of the database, such as the schema, table, column, row, or cell level. **The view and the stored procedures also need to have controlled access.**\",\n",
    "    \"note\":\"New content is added\"\n",
    "}\n",
    "```\n",
    "### Example When the two versions are identical\n",
    "The cosine similarity between the two documents is 0.992.\n",
    "\n",
    "---version 1 --- version1 file name Databases v1_0.txt\n",
    "Access control can be implemented at different levels of the database.\n",
    "------\n",
    "\n",
    "---version 2 --- version2 file name Databases v2_0.txt\n",
    "Access control can be implemented at different levels of the database.\n",
    "------\n",
    "\n",
    "Your Answer:\n",
    "```\n",
    "{\n",
    "    \"similarity\": 0.992,\n",
    "    \"version1_file_name\":\"Databases v1_0.txt\",\n",
    "    \"version2_file_name\":\"Databases v2_0.txt\",\n",
    "    \"version1\":\"N/A\",\n",
    "    \"version2\":\"N/A\",\n",
    "    \"note\":\"No difference is found\"\n",
    "}\n",
    "```\n",
    "### Example When the two versions are off the topic or completely different\n",
    "The cosine similarity between the two documents is 0.990.\n",
    "\n",
    "---version 1 --- version1 file name Databases v1_0.txt\n",
    "Access control can be implemented at different levels of the database.\n",
    "------\n",
    "\n",
    "---version 2 --- version2 file name Databases v2_0.txt\n",
    "Americano is made with espresso and hot water.\n",
    "------\n",
    "\n",
    "Your Answer:\n",
    "```\n",
    "{\n",
    "    \"similarity\": 0.990,\n",
    "    \"version1_file_name\":\"Databases v1_0.txt\",\n",
    "    \"version2_file_name\":\"Databases v2_0.txt\",\n",
    "    \"version1\":\"N/A\",\n",
    "    \"version2\":\"N/A\",\n",
    "    \"note\":\"Not able to compare\"\n",
    "}\n",
    "```\n",
    "\"\"\""
   ]
  },
  {
   "cell_type": "code",
   "execution_count": null,
   "metadata": {},
   "outputs": [],
   "source": [
    "user_prompt = \"\"\"\n",
    "The cosine similarity between the two documents is {{similarity}}.\n",
    "\n",
    "---version 1 --- version1 file name {{version1_file_name}}\n",
    "{{version1}}\n",
    "------\n",
    "\n",
    "---version 2 --- version2 file name {{version2_file_name}}\n",
    "{{version2}}\n",
    "------\n",
    "\n",
    "Your Answer:\n",
    "\"\"\""
   ]
  },
  {
   "cell_type": "code",
   "execution_count": null,
   "metadata": {},
   "outputs": [],
   "source": [
    "# utils.similarity(version1_files[0], version2_files[0])\n",
    "analysis_results = []\n",
    "\n",
    "for i in range(0, len(version1_files)):\n",
    "    # get the similarity score\n",
    "    similarity = utils.similarity(version1_files[i], version2_files[i])\n",
    "    # get the text\n",
    "    with open(version1_files[i], 'r') as f:\n",
    "        version1 = f.read()\n",
    "    with open(version2_files[i], 'r') as f:\n",
    "        version2 = f.read()\n",
    "    # generate the prompt\n",
    "    updated_user_prompt = user_prompt.replace(\"{{similarity}}\", str(similarity)).\\\n",
    "        replace(\"{{version1}}\", version1).\\\n",
    "            replace(\"{{version2}}\", version2).\\\n",
    "                replace(\"{{version1_file_name}}\", os.path.basename(version1_files[i])).\\\n",
    "                    replace(\"{{version2_file_name}}\", os.path.basename(version2_files[i]))\n",
    "    # generate the response\n",
    "    system_msg = {\"role\":\"system\",\"content\":system_message}\n",
    "    user_msg = {\"role\":\"user\",\"content\":updated_user_prompt}\n",
    "    prompt = [system_msg, user_msg]\n",
    "    response = utils.run(prompt, temperature=0.0, max_tokens=2500, top_p=0.0)\n",
    "    # analysis_results.append(response)\n",
    "    analysis_results.append(json.loads(response.split(\"```\")[1]))"
   ]
  },
  {
   "cell_type": "code",
   "execution_count": null,
   "metadata": {},
   "outputs": [],
   "source": [
    "results = pd.DataFrame(analysis_results)\n",
    "results"
   ]
  },
  {
   "cell_type": "code",
   "execution_count": null,
   "metadata": {},
   "outputs": [],
   "source": [
    "pd.set_option(\"display.max_colwidth\", None) # default is 50\n",
    "display(results[[\"version1\",\"version2\"]])\n",
    "pd.set_option(\"display.max_colwidth\", 50) # default is 50"
   ]
  },
  {
   "cell_type": "code",
   "execution_count": null,
   "metadata": {},
   "outputs": [],
   "source": [
    "# compare version 1 and version 2\n",
    "results[[\"version1\",\"version2\"]]"
   ]
  },
  {
   "cell_type": "code",
   "execution_count": null,
   "metadata": {},
   "outputs": [],
   "source": [
    "system_message_insights=\"\"\"\n",
    "You are a compliance reviewer in a security team. You are responsible for reviewing the compliance policies and providing insights.\n",
    "\n",
    "## Review process\n",
    "### 1. Find differences\n",
    "Identify differences. Show what is addedd, removed or modified as a Markdown table.\n",
    "\n",
    "### 2. Extract differences\n",
    "If there are changes regarding specification, business or technical requirements, then extract them as key phrases.\n",
    "Extract key phrases of changes and rephrase them as clear terms to describe the changes.\n",
    "\n",
    "### 3. Provide insights\n",
    "Provide additional expalination around the changes\n",
    "What should be done to complice with the changes? \n",
    "What feature should be on or off\n",
    "\n",
    "\n",
    "## Response\n",
    "Follow the 'Review process' and reorganize into categories 'Access control', 'Entryption' and 'Audit', summarize using bullet points.\n",
    "Use Markdown to format the response.\n",
    "\n",
    "[Replace with Category,'Access control', 'Entryption' and 'Audit']\n",
    "\n",
    "Differences\n",
    "* Version1:\n",
    " - Focuses on recording access, modification, deletion of data, and execution of queries or commands.\n",
    " - Does not specify the duration for which logs should be kept.\n",
    "* Version2:\n",
    " - Includes authentication and authorization in the list of activities to be logged.\n",
    " - Specifies that logs must be kept for 24 months.\n",
    "\n",
    "Key Phrases\n",
    "\n",
    "Insights\n",
    "* Actionable items \n",
    " - Step by step guide to apply the changes or rules\n",
    "\"\"\""
   ]
  },
  {
   "cell_type": "code",
   "execution_count": null,
   "metadata": {},
   "outputs": [],
   "source": [
    "user_prompt_insights=\"\"\"\n",
    "--- version 1 ---\n",
    "{{version1}}\n",
    "------\n",
    "\n",
    "--- version 2 ---\n",
    "{{version2}}\n",
    "------\n",
    "\"\"\""
   ]
  },
  {
   "cell_type": "code",
   "execution_count": null,
   "metadata": {},
   "outputs": [],
   "source": [
    "diff_ver1 = \"\"\n",
    "diff_ver2 = \"\"\n",
    "for item in results.iterrows():\n",
    "    diff_ver1 += item[1]['version1'] + \"\\n\"\n",
    "    diff_ver2 += item[1]['version2'] + \"\\n\"\n",
    "\n",
    "system_msg_insights = {\"role\":\"system\",\"content\":system_message_insights}\n",
    "user_msg_insights = {\"role\":\"user\",\"content\":user_prompt_insights.replace(\"{{version1}}\", diff_ver1).replace(\"{{version2}}\", diff_ver2)}\n",
    "prompt_insights = [system_msg_insights, user_msg_insights]\n",
    "res_insights = utils.run(prompt_insights, temperature=0.0, max_tokens=2500, top_p=0.0)\n",
    "display(Markdown(res_insights))"
   ]
  },
  {
   "cell_type": "code",
   "execution_count": null,
   "metadata": {},
   "outputs": [],
   "source": [
    "# for item in results.iterrows():    \n",
    "#     system_msg_insights = {\"role\":\"system\",\"content\":system_message_insights}\n",
    "#     user_msg_insights = {\"role\":\"user\",\"content\":user_prompt_insights.replace(\"{{version1}}\", item[1]['version1']).replace(\"{{version2}}\", item[1]['version2'])}\n",
    "#     prompt_insights = [system_msg_insights, user_msg_insights]\n",
    "#     res_insights = utils.run(prompt_insights, temperature=0.0, max_tokens=2500, top_p=0.0)\n",
    "#     display(Markdown(res_insights))"
   ]
  },
  {
   "cell_type": "markdown",
   "metadata": {},
   "source": [
    "Automate"
   ]
  },
  {
   "cell_type": "code",
   "execution_count": null,
   "metadata": {},
   "outputs": [],
   "source": [
    "system_message_automate=\"\"\"\n",
    "You are a compliance policy maker in a security team.\n",
    "\n",
    "## Review insights\n",
    "### 1. Indentify goal of changes\n",
    "Identify differences. Show what is addedd, removed or modified as a Markdown table.\n",
    "\n",
    "### 2. Use the insights to share updated rules\n",
    "Provide additional expalination around the changes\n",
    "What should be done to complice with the changes? \n",
    "What feature should be on or off\n",
    "\n",
    "\n",
    "## Response\n",
    "Use Markdown to format the response.\n",
    "\n",
    "\"\"\""
   ]
  },
  {
   "cell_type": "code",
   "execution_count": null,
   "metadata": {},
   "outputs": [],
   "source": [
    "user_prompt_automate=\"\"\"\n",
    "--- insights ---\n",
    "{{results}}\n",
    "------\n",
    "\"\"\""
   ]
  },
  {
   "cell_type": "code",
   "execution_count": null,
   "metadata": {},
   "outputs": [],
   "source": [
    "system_msg_automate = {\"role\":\"system\",\"content\":system_message_automate}\n",
    "user_msg_automate = {\"role\":\"user\",\"content\":user_prompt_automate.replace(\"{{results}}\", res_insights)}\n",
    "prompt_automate = [system_msg_automate, user_msg_automate]\n",
    "res_automate = utils.run(prompt_automate, temperature=1.0, max_tokens=2500, top_p=1.0)\n",
    "display(Markdown(res_automate))"
   ]
  },
  {
   "cell_type": "code",
   "execution_count": null,
   "metadata": {},
   "outputs": [],
   "source": []
  }
 ],
 "metadata": {
  "kernelspec": {
   "display_name": "openai",
   "language": "python",
   "name": "python3"
  },
  "language_info": {
   "codemirror_mode": {
    "name": "ipython",
    "version": 3
   },
   "file_extension": ".py",
   "mimetype": "text/x-python",
   "name": "python",
   "nbconvert_exporter": "python",
   "pygments_lexer": "ipython3",
   "version": "3.10.11"
  }
 },
 "nbformat": 4,
 "nbformat_minor": 2
}
