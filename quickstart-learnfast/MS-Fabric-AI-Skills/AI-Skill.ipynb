{
 "cells": [
  {
   "cell_type": "code",
   "execution_count": null,
   "metadata": {},
   "outputs": [
    {
     "name": "stdout",
     "output_type": "stream",
     "text": [
      "RESPONSE:  <Response [200]>\n"
     ]
    },
    {
     "data": {
      "text/plain": [
       "{'artifactId': '4db981ac-8d06-4861-9759-c82961fe3be4',\n",
       " 'promptContextId': '8ae66844-c84a-4281-a7b6-0652f33af7fd',\n",
       " 'queryEndpoint': 'deployment',\n",
       " 'result': 'Clothing,3844801.05\\nComponents,14520583.50\\nBikes,9952760.77',\n",
       " 'ResultRows': [['Clothing', 3844801.05],\n",
       "  ['Components', 14520583.5],\n",
       "  ['Bikes', 9952760.77]],\n",
       " 'ResultHeaders': ['EnglishProductCategoryName', 'CategoryRevenue'],\n",
       " 'ResultTypes': ['varchar', 'decimal'],\n",
       " 'executedSQL': 'SELECT dpc.EnglishProductCategoryName, SUM(fis.SalesAmount) AS CategoryRevenue \\nFROM factinternetsales fis \\nJOIN dimproduct dp ON fis.ProductKey = dp.ProductKey \\nJOIN dimproductcategory dpc ON dp.ProductSubcategoryKey = dpc.ProductCategoryKey \\nGROUP BY dpc.EnglishProductCategoryName;',\n",
       " 'additionalMessage': None,\n",
       " 'userQuestion': 'show me revenue by prodcut category',\n",
       " 'modelBehavior': {'sqlQueryVariations': 3,\n",
       "  'showExecutedSQL': True,\n",
       "  'includeSQLExplanation': False,\n",
       "  'enableExplanations': False,\n",
       "  'enableSemanticMismatchDetection': False,\n",
       "  'executeSql': True,\n",
       "  'enableBlockAdditionalContextByLength': True,\n",
       "  'additionalContextLanguageDetection': True,\n",
       "  'fewShotExampleCount': 3},\n",
       " 'additionalContext': 'Whenever I ask about \"the most sold\" products or items, the metric of interest is sales revenue and not order quantity.',\n",
       " 'fewShotExamples': {'which product category generated the highest revenue?': 'SELECT dpc.EnglishProductCategoryName, SUM(fis.SalesAmount) AS CategoryRevenue FROM factinternetsales fis JOIN dimproduct dp ON fis.ProductKey = dp.ProductKey JOIN dimproductcategory dpc ON dp.ProductSubcategoryKey = dpc.ProductCategoryKey GROUP BY dpc.EnglishProductCategoryName ORDER BY CategoryRevenue DESC;',\n",
       "  'which product category had the highest average sales price?': 'SELECT dpc.EnglishProductCategoryName, AVG(fis.UnitPrice) AS AvgPrice FROM factinternetsales fis JOIN dimproduct dp ON fis.ProductKey = dp.ProductKey JOIN dimproductcategory dpc ON dp.ProductSubcategoryKey = dpc.ProductCategoryKey GROUP BY dpc.EnglishProductCategoryName ORDER BY AvgPrice DESC;',\n",
       "  'which product had the highest sales revenue last year?': 'SELECT dp.EnglishProductName, SUM(fis.SalesAmount) AS TotalRevenue FROM factinternetsales fis JOIN dimproduct dp ON fis.ProductKey = dp.ProductKey JOIN dimdate dd ON fis.ShipDateKey = dd.DateKey WHERE dd.CalendarYear = YEAR(GETDATE()) - 1 GROUP BY dp.EnglishProductName ORDER BY TotalRevenue DESC;'}}"
      ]
     },
     "metadata": {},
     "output_type": "display_data"
    },
    {
     "name": "stdout",
     "output_type": "stream",
     "text": [
      "None\n",
      "==================================\n",
      "Clothing,3844801.05\n",
      "Components,14520583.50\n",
      "Bikes,9952760.77\n"
     ]
    }
   ],
   "source": [
    "import os\n",
    "from dotenv import load_dotenv\n",
    "import requests\n",
    "import json\n",
    "import pprint\n",
    "from IPython.display import JSON, display\n",
    "\n",
    "load_dotenv(dotenv_path=\"./.env\", override=True)\n",
    "\n",
    "# the URL could change if the workspace is assigned to a different capacity\n",
    "url = os.getenv(\"AI_SKILL_URL\")\n",
    "\n",
    "headers = {\n",
    "    \"Authorization\": f\"Bearer {os.getenv('TOKEN')}\",\n",
    "    \"Content-Type\": \"application/json\"\n",
    "}\n",
    "\n",
    "json_question = {\n",
    "    \"userQuestion\": \"show me revenue by prodcut category\"\n",
    "}\n",
    "\n",
    "# question = json.dumps(json_question)\n",
    "\n",
    "response = requests.post(url, headers=headers, json = json_question)\n",
    "\n",
    "print(\"RESPONSE: \", response)\n",
    "\n",
    "\n",
    "response = json.loads(response.content)\n",
    "\n",
    "print(display(response))\n",
    "print(\"==================================\")\n",
    "print(response[\"result\"])\n"
   ]
  },
  {
   "cell_type": "code",
   "execution_count": 7,
   "metadata": {},
   "outputs": [],
   "source": [
    "# token =\"eyJ0eXAiOiJKV1QiLCJhbGciOiJSUzI1NiIsIng1dCI6IjNQYUs0RWZ5Qk5RdTNDdGpZc2EzWW1oUTVFMCIsImtpZCI6IjNQYUs0RWZ5Qk5RdTNDdGpZc2EzWW1oUTVFMCJ9.eyJhdWQiOiJodHRwczovL2FuYWx5c2lzLndpbmRvd3MubmV0L3Bvd2VyYmkvYXBpIiwiaXNzIjoiaHR0cHM6Ly9zdHMud2luZG93cy5uZXQvMzJkYzJmZWItNzcxNi00Y2Y4LWIxYTYtZjAyY2YzN2ZkNmJmLyIsImlhdCI6MTcyOTYwODA4NSwibmJmIjoxNzI5NjA4MDg1LCJleHAiOjE3Mjk2MTM1MDQsImFjY3QiOjAsImFjciI6IjEiLCJhaW8iOiJBVlFBcS84WUFBQUFDUFVqeDduV253SUU2bDRBVlhzZHZiay8vMG1XWHZUOHNDMjNxZisxbjJxZ2p5dE9vRVZ2RnltY1pSQ2grckJQNTdkWmdqOXl4dVBiUkc4a3FkR1FWaFhXNEVLU2sxbnNJaWVlN0VZZzhkWT0iLCJhbXIiOlsicHdkIiwibWZhIl0sImFwcGlkIjoiODcxYzAxMGYtNWU2MS00ZmIxLTgzYWMtOTg2MTBhN2U5MTEwIiwiYXBwaWRhY3IiOiIwIiwiZmFtaWx5X25hbWUiOiJTdWtTaGluIiwiZ2l2ZW5fbmFtZSI6Ikh5dW4iLCJpZHR5cCI6InVzZXIiLCJpcGFkZHIiOiIyMDAxOjQ4OTg6ODBlODozNTo2ZWVmOmM4MzI6NzIwMjozZWMiLCJuYW1lIjoiSHl1biBTdWtTaGluIiwib2lkIjoiYWM3Y2UzYmMtMjkxMS00ODRiLWI1OTUtNjc1YjdhZDM4ZGFmIiwib25wcmVtX3NpZCI6IlMtMS01LTIxLTM0MDM0OTM4OTgtMjkyNzU4NjExOC0xNTg3MTUyNy05NTMyIiwicHVpZCI6IjEwMDMwMDAwQTQ4MTNFNEIiLCJyaCI6IjAuQVhjQTZ5X2NNaFozLUV5eHB2QXM4M19XdndrQUFBQUFBQUFBd0FBQUFBQUFBQUIzQU1VLiIsInNjcCI6InVzZXJfaW1wZXJzb25hdGlvbiIsInN1YiI6IjdaVmJiLThlWmhjZjRoMkV3Ti1vY0hwdkxSYjVwNlBRN1FfY3E4djdRcjAiLCJ0aWQiOiIzMmRjMmZlYi03NzE2LTRjZjgtYjFhNi1mMDJjZjM3ZmQ2YmYiLCJ1bmlxdWVfbmFtZSI6Ikh5dW5TdWtAb25lbXRjLm5ldCIsInVwbiI6Ikh5dW5TdWtAb25lbXRjLm5ldCIsInV0aSI6ImoxZHR5YW54ZUVXNjN5VU5IaDVsQUEiLCJ2ZXIiOiIxLjAiLCJ3aWRzIjpbImYyZWY5OTJjLTNhZmItNDZiOS1iN2NmLWExMjZlZTc0YzQ1MSIsIjI1ZGYzMzVmLTg2ZWItNDExOS1iNzE3LTBmZjAyZGUyMDdlOSIsImI3OWZiZjRkLTNlZjktNDY4OS04MTQzLTc2YjE5NGU4NTUwOSJdLCJ4bXNfY2MiOlsiQ1AxIl0sInhtc19pZHJlbCI6IjQgMSJ9.YS_Jhd58kYVAJ--IqLuoJuX6OkWYOq1QeORsiWmL2K_dn1HqNZq_-AbP_K4OOgWLPAmsN6ndIfa1DA1yCaxAvEU4QqRUKiPcHQkXThTh_DU7RhI7HAswDElAw6PTHZ2XPPeoJf0Arfe2jkCQDyNOgLkgjUcEwC6FH9Qv4Rao-Zs0yIeB3nGDMIOSBDJMVBsfy018Vu4_79go6Sy_a2F2q8gGb01y1O0eP9jn0iSXF6Ykxf_iUCCRwaY7BgxZ5JXKlceeSQTFqBjpvk6PPqIhHkANOviTpThX9UxDaj462rvOxPqgIw4zc8bEoy0BbiKr_2jk7_0qTOT-_H8Sf-BA0Q\""
   ]
  },
  {
   "cell_type": "code",
   "execution_count": 14,
   "metadata": {},
   "outputs": [],
   "source": [
    "# import os\n",
    "# from dotenv import load_dotenv\n",
    "# from azure.identity import DefaultAzureCredential, get_bearer_token_provider, AzureCliCredential\n",
    "\n",
    "# # AI Skill in Fabric doesn't support SP yet \n",
    "# # load_dotenv(dotenv_path=\"./.env\", override=True)\n",
    "# # print(os.getenv(\"AZURE_CLIENT_ID\"))\n",
    "\n",
    "# # Initialize the credential\n",
    "# # tenant_id = os.getenv(\"AZURE_TENANT_ID\")\n",
    "# tenant_id = \"32dc2feb-7716-4cf8-b1a6-f02cf37fd6bf\"\n",
    "# # authority=\"https://login.microsoftonline.com/microsoft.com\"\n",
    "# authority = f\"https://login.microsoftonline.com/{tenant_id}\"\n",
    "# credential = DefaultAzureCredential(authority=authority)\n",
    "\n",
    "# # provider = \"https://management.azure.com/.default\"\n",
    "# # provider = \"https://cognitiveservices.azure.com/.default\"\n",
    "# # string[] scopes = new string[] { \"https://api.fabric.microsoft.com/Workspace.ReadWrite.All https://api.fabric.microsoft.com/Item.ReadWrite.All\" }; \n",
    "# provider = \"https://api.fabric.microsoft.com/\"\n",
    "# _scopes = \"https://api.fabric.microsoft.com/Workspace.ReadWrite.All\"\n",
    "# scopes = [\"https://api.fabric.microsoft.com/Workspace.ReadWrite.All\", \"https://api.fabric.microsoft.com/Item.ReadWrite.All\"]\n",
    "\n",
    "\n",
    "# ######################################################################################\n",
    "# # option 1\n",
    "# # # Use the credential to get the token\n",
    "# # # token = credential.get_token(\"https://management.azure.com/.default\")\n",
    "# # # provider = \"https://management.azure.com/.default\"\n",
    "# # token = credential.get_token(provider).token\n",
    "\n",
    "\n",
    "# ######################################################################################\n",
    "# # option 2\n",
    "# # token_provider = get_bearer_token_provider(\n",
    "# #     credential,\n",
    "# #     provider\n",
    "# # )\n",
    "# # token = token_provider()\n",
    "\n",
    "\n",
    "# ######################################################################################\n",
    "# # option 3\n",
    "# # token = credential.get_token(provider)\n",
    "# # print(token.token)\n",
    "\n",
    "# # option 4\n",
    "\n",
    "# # token = credential.get_token(provider).token"
   ]
  },
  {
   "cell_type": "code",
   "execution_count": null,
   "metadata": {},
   "outputs": [],
   "source": [
    "json.dumps(json_question)"
   ]
  },
  {
   "cell_type": "code",
   "execution_count": 22,
   "metadata": {},
   "outputs": [],
   "source": [
    "# import msal\n",
    "\n",
    "# clientID = \"23151b20-fa7f-4490-ba1c-3af66ee77e2e\"\n",
    "\n",
    "# def getToken():\n",
    "#     app = msal.PublicClientApplication(\n",
    "#         f\"{clientID}\", # this filed should be the client id \n",
    "#         authority=\"https://login.microsoftonline.com/microsoft.com\")\n",
    "\n",
    "#     result = app.acquire_token_interactive(scopes=[\"https://api.fabric.microsoft.com/.default\"])\n",
    "\n",
    "#     print(f\"Successfully acquired AAD token with storage audience:{result['access_token']}\")\n",
    "\n",
    "#     return result['access_token']\n",
    "\n",
    "# msal_token = getToken()"
   ]
  },
  {
   "cell_type": "code",
   "execution_count": 23,
   "metadata": {},
   "outputs": [],
   "source": [
    "# import msal\n",
    "\n",
    "# # Define your AAD app details\n",
    "# client_id = 'your_client_id'\n",
    "# client_secret = 'your_client_secret'\n",
    "# tenant_id = '32dc2feb-7716-4cf8-b1a6-f02cf37fd6bf'\n",
    "# authority = f\"https://login.microsoftonline.com/{tenant_id}\"\n",
    "\n",
    "# # Create a confidential client application\n",
    "# app = msal.ConfidentialClientApplication(\n",
    "#     client_id,\n",
    "#     authority=authority,\n",
    "#     client_credential=client_secret\n",
    "# )\n",
    "\n",
    "# # Acquire a token\n",
    "# result = app.acquire_token_for_client(scopes=[\"https://management.azure.com/.default\"])\n",
    "\n",
    "# if \"access_token\" in result:\n",
    "#     token = result[\"access_token\"]\n",
    "#     print(\"Token:\", token)\n",
    "# else:\n",
    "#     print(\"Error acquiring token:\", result.get(\"error_description\"))"
   ]
  },
  {
   "cell_type": "code",
   "execution_count": null,
   "metadata": {},
   "outputs": [],
   "source": [
    "import msal\n",
    "\n",
    "client_id = 'YOUR_CLIENT_ID'\n",
    "client_secret = 'YOUR_CLIENT_SECRET'\n",
    "tenant_id = 'YOUR_TENANT_ID'\n",
    "authority = f\"https://login.microsoftonline.com/{tenant_id}\"\n",
    "scope = [\"https://api.fabric.microsoft.com/.default\"]\n",
    "\n",
    "app = msal.ConfidentialClientApplication(\n",
    "    client_id,\n",
    "    authority=authority,\n",
    "    client_credential=client_secret\n",
    ")\n",
    "\n",
    "result = app.acquire_token_for_client(scopes=scope)\n",
    "\n",
    "if \"access_token\" in result:\n",
    "    print(\"Access token:\", result[\"access_token\"])\n",
    "else:\n",
    "    print(\"Error acquiring token:\", result.get(\"error\"), result.get(\"error_description\"))\n"
   ]
  }
 ],
 "metadata": {
  "kernelspec": {
   "display_name": "openai",
   "language": "python",
   "name": "python3"
  },
  "language_info": {
   "codemirror_mode": {
    "name": "ipython",
    "version": 3
   },
   "file_extension": ".py",
   "mimetype": "text/x-python",
   "name": "python",
   "nbconvert_exporter": "python",
   "pygments_lexer": "ipython3",
   "version": "3.10.15"
  }
 },
 "nbformat": 4,
 "nbformat_minor": 2
}
