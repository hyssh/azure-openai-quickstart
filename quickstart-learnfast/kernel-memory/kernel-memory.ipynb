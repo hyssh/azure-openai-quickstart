{
 "cells": [
  {
   "cell_type": "markdown",
   "metadata": {},
   "source": [
    "Run following command to run kernel-memory\n",
    "\n",
    "```cmd\n",
    "C:\\Users\\hyssh\\workspace\\kernel-memory\\service\\Service>dotnet run\n",
    "```"
   ]
  },
  {
   "cell_type": "code",
   "execution_count": 12,
   "metadata": {},
   "outputs": [],
   "source": [
    "import os\n",
    "import json\n",
    "import requests\n",
    "\n",
    "def ingest(files:list, meta_data:dict):\n",
    "    url = 'http://localhost:5000/upload'\n",
    "    headers = {'accept': 'application/json'}\n",
    "\n",
    "    response = requests.post(url, headers=headers, files=files, data=meta_data)\n",
    "\n",
    "    return response\n",
    "\n",
    "\n",
    "# Files to import\n",
    "files = {\n",
    "          \"file1\": (\"pci-dess-v4.pdf\", open(r\"C:\\Users\\hyssh\\OneDrive - Microsoft\\DataSamples\\PCI-DSS-v4_0.pdf\", \"rb\")),\n",
    "        }\n",
    "\n",
    "# Tags to apply, used by queries to filter memory\n",
    "meta_data = { \"documentId\": \"pdf001\",\n",
    "         \"tags\": [ \"user:hyssh@microsoft.com\",\n",
    "                   \"collection:PCI-DSS\",\n",
    "                   \"fiscalYear:2022\" ]\n",
    "       }\n",
    "\n",
    "res = ingest(files, meta_data)\n",
    "# response = requests.post(\"http://127.0.0.1:9001/upload\", files=files, data=data)\n"
   ]
  },
  {
   "cell_type": "code",
   "execution_count": 11,
   "metadata": {},
   "outputs": [
    {
     "name": "stdout",
     "output_type": "stream",
     "text": [
      "Sure, here is a comprehensive checklist to ensure database protection in terms of PCI-DSS:\n",
      "\n",
      "### Database Audit\n",
      "1. **Enable Database Auditing:**\n",
      "   - Ensure database auditing is enabled to log all access to cardholder data.\n",
      "   - Verify that audit logs are retained for at least one year, with a minimum of three months immediately available for analysis.\n",
      "\n",
      "2. **Review Audit Logs:**\n",
      "   - Regularly review audit logs to identify any unauthorized access attempts.\n",
      "   - Implement automated tools to alert on suspicious activities.\n",
      "\n",
      "3. **Protect Audit Logs:**\n",
      "   - Ensure audit logs are protected from unauthorized access and tampering.\n",
      "   - Store audit logs in a secure location, separate from the database.\n",
      "\n",
      "### Encryption\n",
      "1. **Encrypt Stored Data:**\n",
      "   - Ensure all stored cardholder data is encrypted using strong cryptography.\n",
      "   - Verify that encryption keys are managed securely and are not stored with the encrypted data.\n",
      "\n",
      "2. **Encrypt Data in Transit:**\n",
      "   - Ensure all cardholder data transmitted over open, public networks is encrypted using strong cryptography.\n",
      "   - Use secure protocols such as TLS for data transmission.\n",
      "\n",
      "3. **Key Management:**\n",
      "   - Implement a key management process that includes key generation, distribution, storage, rotation, and destruction.\n",
      "   - Ensure key-encrypting keys are at least as strong as the data-encrypting keys they protect.\n",
      "\n",
      "### Access Control\n",
      "1. **Restrict Access:**\n",
      "   - Ensure access to cardholder data is restricted\n"
     ]
    }
   ],
   "source": [
    "ask = {\n",
    "    \"question\": \"Make a checklist to ensure database protection in terms of PCI-DSS? The check list must have 4 secntions, Database Audit, Encryption, Access Control, and Backup and Recovery.\",\n",
    "    \"filters\":  [ {\"user\": [\"hyssh@microsoft.com\"]} ]\n",
    "}\n",
    "\n",
    "res_ask = requests.post(\n",
    "    \"http://localhost:5000/ask\",\n",
    "    headers={\"Content-Type\": \"application/json\"},\n",
    "    data=json.dumps(ask),\n",
    ").json()\n",
    "\n",
    "print(res_ask[\"text\"])"
   ]
  },
  {
   "cell_type": "code",
   "execution_count": null,
   "metadata": {},
   "outputs": [],
   "source": []
  }
 ],
 "metadata": {
  "kernelspec": {
   "display_name": "openai",
   "language": "python",
   "name": "python3"
  },
  "language_info": {
   "codemirror_mode": {
    "name": "ipython",
    "version": 3
   },
   "file_extension": ".py",
   "mimetype": "text/x-python",
   "name": "python",
   "nbconvert_exporter": "python",
   "pygments_lexer": "ipython3",
   "version": "3.10.15"
  }
 },
 "nbformat": 4,
 "nbformat_minor": 2
}
