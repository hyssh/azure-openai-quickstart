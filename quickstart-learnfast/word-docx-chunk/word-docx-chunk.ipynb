{
 "cells": [
  {
   "cell_type": "code",
   "execution_count": 11,
   "metadata": {},
   "outputs": [],
   "source": [
    "from langchain.document_loaders import Docx2txtLoader\n",
    "from langchain.text_splitter import RecursiveCharacterTextSplitter\n",
    "from langchain.embeddings import OpenAIEmbeddings\n",
    "from openai.embeddings_utils import get_embedding, cosine_similarity\n",
    "from langchain.text_splitter import CharacterTextSplitter\n",
    "from langchain.vectorstores.redis import Redis\n",
    "import os\n",
    "import dotenv\n",
    "import openai\n",
    "import redis\n",
    "\n",
    "# .env file must have OPENAI_API_KEY and OPENAI_API_BASE\n",
    "dotenv.load_dotenv()\n",
    "\n",
    "openai.api_type = \"azure\"\n",
    "openai.api_base = os.getenv(\"OPENAI_API_BASE\")\n",
    "openai.api_version = \"2023-03-15-preview\"\n",
    "openai.api_key = os.getenv(\"OPENAI_API_KEY\")\n"
   ]
  },
  {
   "cell_type": "code",
   "execution_count": 2,
   "metadata": {},
   "outputs": [
    {
     "name": "stdout",
     "output_type": "stream",
     "text": [
      "page_content='Tell me about Benefits\\n\\nYou can choose one of the categories below for detailed Benefits information or type your question in the chat box. \\n\\n\\n\\nPlease remember: The Annual Enrollment period for 2020 is from October 16th to October 30th, 2019.\\n\\nLearn What’s New for 2020\\n\\nI found what you need. It is in the 2020 Annual Benefits Brochure. \\n\\n\\n\\nPlease remember: The Annual Enrollment period for 2020 is from October 16th to October 30th, 2019\\n\\nComplete Enrollment\\nOk, I can help you with that, what enrollment action do you want to take?\\n\\nChoose your benefits\\n\\nTo complete annual enrollment:\\n\\nOpen your benefits website. \\n\\nAt the pop-up window click on \"Start Enrollment.\"' metadata={'source': './data/ContosoBenefits.docx'}\n"
     ]
    }
   ],
   "source": [
    "loader = Docx2txtLoader(\"./data/ContosoBenefits.docx\")\n",
    "data = loader.load()\n",
    "\n",
    "text_splitter = RecursiveCharacterTextSplitter(\n",
    "    # Set a really small chunk size, just to show.\n",
    "    chunk_size = 700,\n",
    "    chunk_overlap  = 20,\n",
    "    length_function = len,\n",
    ")\n",
    "\n",
    "texts = text_splitter.split_documents(data)\n",
    "print(texts[0])"
   ]
  },
  {
   "cell_type": "code",
   "execution_count": 3,
   "metadata": {},
   "outputs": [
    {
     "data": {
      "text/plain": [
       "37"
      ]
     },
     "execution_count": 3,
     "metadata": {},
     "output_type": "execute_result"
    }
   ],
   "source": [
    "len(texts)"
   ]
  },
  {
   "cell_type": "code",
   "execution_count": null,
   "metadata": {},
   "outputs": [],
   "source": [
    "i = 0 \n",
    "for t in texts:\n",
    "    # save text as txt file\n",
    "    with open(f\"./chunks-txt/ContosoBenefits_{texts.index(t)}.txt\", \"w\") as f:\n",
    "        f.write(t.page_content)"
   ]
  },
  {
   "cell_type": "code",
   "execution_count": 12,
   "metadata": {},
   "outputs": [],
   "source": [
    "def getRedisConnection(host, access_key, port=6380, ssl=True):\n",
    "    try:\n",
    "        az_redis = redis.Redis(host=host, \n",
    "                            port=port, \n",
    "                            password=access_key,    \n",
    "                            ssl=ssl)\n",
    "        return az_redis\n",
    "    except Exception as e:\n",
    "        print(f'Error getRedisConnection(): {e}')\n",
    "        return None\n",
    "    \n",
    "az_redis = getRedisConnection(host=os.getenv('REDIS_HOST'), access_key=os.getenv('REDIS_ACCESS_KEY'), port=os.getenv('REDIS_PORT'), ssl=False)\n"
   ]
  },
  {
   "cell_type": "code",
   "execution_count": 13,
   "metadata": {},
   "outputs": [
    {
     "ename": "TypeError",
     "evalue": "VectorStore.from_documents() takes 3 positional arguments but 4 were given",
     "output_type": "error",
     "traceback": [
      "\u001b[1;31m---------------------------------------------------------------------------\u001b[0m",
      "\u001b[1;31mTypeError\u001b[0m                                 Traceback (most recent call last)",
      "Cell \u001b[1;32mIn[13], line 3\u001b[0m\n\u001b[0;32m      1\u001b[0m embeddings \u001b[39m=\u001b[39m OpenAIEmbeddings()\n\u001b[1;32m----> 3\u001b[0m rds \u001b[39m=\u001b[39m Redis\u001b[39m.\u001b[39;49mfrom_documents(texts, embeddings, az_redis,  index_name\u001b[39m=\u001b[39;49m\u001b[39m'\u001b[39;49m\u001b[39mlink\u001b[39;49m\u001b[39m'\u001b[39;49m)\n",
      "\u001b[1;31mTypeError\u001b[0m: VectorStore.from_documents() takes 3 positional arguments but 4 were given"
     ]
    }
   ],
   "source": [
    "embeddings = OpenAIEmbeddings()\n",
    "\n",
    "rds = Redis.from_documents(texts, embeddings,  index_name='link')"
   ]
  }
 ],
 "metadata": {
  "kernelspec": {
   "display_name": "openai-py310",
   "language": "python",
   "name": "python3"
  },
  "language_info": {
   "codemirror_mode": {
    "name": "ipython",
    "version": 3
   },
   "file_extension": ".py",
   "mimetype": "text/x-python",
   "name": "python",
   "nbconvert_exporter": "python",
   "pygments_lexer": "ipython3",
   "version": "3.10.11"
  },
  "orig_nbformat": 4
 },
 "nbformat": 4,
 "nbformat_minor": 2
}
