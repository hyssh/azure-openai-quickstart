{
 "cells": [
  {
   "cell_type": "code",
   "execution_count": 1,
   "metadata": {},
   "outputs": [],
   "source": [
    "import os\n",
    "import requests\n",
    "from bs4 import BeautifulSoup\n",
    "import json\n",
    "import pandas as pd\n",
    "from dotenv import load_dotenv\n",
    "from demo_utils import demo_utils\n",
    "from IPython.display import Markdown\n",
    "\n",
    "utils = demo_utils()"
   ]
  },
  {
   "cell_type": "code",
   "execution_count": 2,
   "metadata": {},
   "outputs": [],
   "source": [
    "web_source = \"https://www.reuters.com/article/us-microsoft-openai-idUSKCN1UH1H9\"\n",
    "# web_source = \"https://www.forbes.com/sites/alexandrawrage/2020/07/15/global-pharmaceutical-corruption-lessons-from-the-novartis-case/?sh=44a80a3d489b\"\n",
    "# web_source = \"https://news.yahoo.com/roche-settles-us-patent-lawsuit-192754918.html?guccounter=1&guce_referrer=aHR0cHM6Ly93d3cuYmluZy5jb20v&guce_referrer_sig=AQAAAK6fUHnquLKmeAmg_6j8mLXq9JAsj1xlCDfKz3IgTDuPGbCND7nAVM50xH3kA4Y_l-S_PuQhY_gle227YRnvqhyaVpnSL0p_NdIpHhsk-pPhloY7x1HK_aDnAm4R35zM8anwEO9629Qv1RXfK6tva3mTfxe3HJQw2DnMtZnYelrF\""
   ]
  },
  {
   "cell_type": "code",
   "execution_count": 3,
   "metadata": {},
   "outputs": [
    {
     "name": "stdout",
     "output_type": "stream",
     "text": [
      "<title>Microsoft to invest $1 billion in OpenAI | Reuters</title> \n",
      " Discover Thomson ReutersBy Stephen Nellis3 Min Read(Reuters) - Microsoft Corp said on Monday it was investing $1 billion in San Francisco-based OpenAI and that the two had formed a multi-year partnership to develop artificial intelligence supercomputing technologies on Microsoft’s Azure cloud computing service.OpenAI was founded in 2015 as a nonprofit with $1 billion in funding from Silicon Valley investors Sam Altman, Peter Thiel and LinkedIn co-founder Reid Hoffman, among others. Earlier this year, the group created a related for-profit entity to take in outside investment.Since its founding, OpenAI has employed artificial intelligence researchers to make advances in the field, such as teaching a robotic hand to perform human-like tasks entirely in software, cutting down the cost and time to train robots.The group has also focused on the safety and social implications of AI, researching how computers can generate realistic news stories with little more than headline suggestions and warning researchers to consider how their work and algorithms might be misused by bad actors before publishing them.OpenAI said the Microsoft investment would help it pursue “artificial general intelligence,” or AGI. An AGI is the holy grail of the field and would mean the computing system can master a subject as well or better than the best humans in the world - and master more fields than any single human.“We believe it’s crucial that AGI is deployed safely and securely and that its economic benefits are widely distributed,” Altman said in a statement. “We are excited about how deeply Microsoft shares this vision.”Microsoft said the two companies would jointly build new AI technologies on Microsoft’s Azure cloud computing service. The two also said that OpenAI would move many, though not all, of its services to Azure and that Microsoft would be its “preferred” partner to commercialize new services.The two parties declined to answer questions from Reuters about the terms of the deal. Earlier this year, OpenAI created a for-profit limited partnership to take outside investment. The for-profit entity is ultimately controlled by the nonprofit’s board.When OpenAI created the structure in March, it said investors who put money into the for-profit entity would have their returns capped and that the nonprofit’s mission would take precedence over turning a profit.Microsoft and OpenAI declined to answer questions about whether and how Microsoft’s return on its $1 billion investment would be capped, or how any revenue and profits from jointly developed technologies would be shared.The two firms also declined to say whether Microsoft’s investment would be made in cash, or whether it would involve credits for the Azure cloud computing service.Cloud computing services are a major cost for OpenAI, which spent $7.9 million on cloud computing in the 2017 tax year, or about a quarter of its total functional expenses for that year, according to filings with the U.S. Internal Revenue Service.Reporting by Stephen Nellis in San Francisco; Editing by Peter CooneyOur Standards: The Thomson Reuters Trust Principles.All quotes delayed a minimum of 15 minutes. See here for a complete list of exchanges and delays.\n"
     ]
    }
   ],
   "source": [
    "# web scraping\n",
    "# get a web page\n",
    "web_page = requests.get(web_source)\n",
    "# parse the web page\n",
    "web_soup = BeautifulSoup(web_page.content, 'html.parser')\n",
    "# get the title\n",
    "web_title = web_soup.find('title')\n",
    "# get the article\n",
    "web_article = web_soup.find_all('p')\n",
    "# get the text\n",
    "web_text = [p.get_text() for p in web_article]\n",
    "plan_text = ''.join(web_text)\n",
    "print(web_title, \"\\n\",\n",
    "      plan_text)"
   ]
  },
  {
   "cell_type": "code",
   "execution_count": 4,
   "metadata": {},
   "outputs": [],
   "source": [
    "system_message = \"\"\"\n",
    "You're complinace reviewer. \n",
    "You need to collect and extract meaingful data from email, document, web page, etc.\n",
    "\n",
    "Include following meta data for the analysis\n",
    "* Source\n",
    " * Type: {Email, Document, Web page, etc.}\n",
    "\n",
    "Extract data \n",
    "* Title\n",
    "* Summary\n",
    "* Organization names\n",
    "* Organization industries\n",
    "* People\n",
    " * Name \n",
    " * Organization\n",
    "* Events\n",
    "    * Event name\n",
    "    * Event date and/or time\n",
    "    * Event location\n",
    "\"\"\""
   ]
  },
  {
   "cell_type": "code",
   "execution_count": 5,
   "metadata": {},
   "outputs": [],
   "source": [
    "user_prompt = \"\"\"\n",
    "--- article ---\n",
    "Title: {{title}}\n",
    "\n",
    "{{web_data}}\n",
    "------\n",
    "\n",
    "\"\"\""
   ]
  },
  {
   "cell_type": "code",
   "execution_count": 6,
   "metadata": {},
   "outputs": [
    {
     "name": "stdout",
     "output_type": "stream",
     "text": [
      "Source\n",
      "* Type: Web page\n",
      "\n",
      "Extracted Data\n",
      "* Title: Microsoft to invest $1 billion in OpenAI | Reuters\n",
      "* Summary: Microsoft Corp announced a $1 billion investment in San Francisco-based OpenAI, forming a multi-year partnership to develop artificial intelligence supercomputing technologies on Microsoft’s Azure cloud computing service. OpenAI, founded in 2015, has been working on advances in AI and focuses on the safety and social implications of AI. The Microsoft investment will help OpenAI pursue “artificial general intelligence,” or AGI. The two companies will jointly build new AI technologies on Microsoft’s Azure cloud computing service.\n",
      "* Organization names: Microsoft Corp, OpenAI, Reuters\n",
      "* Organization industries: Technology, News Media\n",
      "* People\n",
      "    * Name: Sam Altman\n",
      "    * Organization: OpenAI\n",
      "    * Name: Peter Thiel\n",
      "    * Organization: OpenAI\n",
      "    * Name: Reid Hoffman\n",
      "    * Organization: LinkedIn\n",
      "* Events\n",
      "    * Event name: Microsoft's investment in OpenAI\n",
      "    * Event date and/or time: Monday (exact date not specified)\n",
      "    * Event location: San Francisco\n"
     ]
    }
   ],
   "source": [
    "system_msg = {\"role\":\"system\",\"content\":system_message}\n",
    "user_msg = {\"role\":\"user\",\"content\":user_prompt.replace(\"{{title}}\", web_title.get_text()).replace(\"{{web_data}}\", plan_text)}\n",
    "prompt_insights = [system_msg, user_msg]\n",
    "res = utils.run(prompt_insights, temperature=0.0, max_tokens=2500, top_p=0.0)\n",
    "print(res)"
   ]
  },
  {
   "cell_type": "code",
   "execution_count": 7,
   "metadata": {},
   "outputs": [
    {
     "name": "stdout",
     "output_type": "stream",
     "text": [
      "\n",
      "{\n",
      "    \"SourceType\":\"WebPage\",\n",
      "    \"Title\": \"Microsoft to invest $1 billion in OpenAI | Reuters\",\n",
      "    \"Summary\":\"Microsoft Corp announced a $1 billion investment in San Francisco-based OpenAI. The two companies have formed a multi-year partnership to develop artificial intelligence supercomputing technologies on Microsoft’s Azure cloud computing service. OpenAI was founded in 2015 and has been focusing on the safety and social implications of AI. The Microsoft investment will help OpenAI pursue 'artificial general intelligence' (AGI).\",\n",
      "    \"Organizations\":[\n",
      "        {\n",
      "            \"Name\":\"Microsoft Corp\",\n",
      "            \"Industry\":\"Technology\"\n",
      "        },\n",
      "        {\n",
      "            \"Name\":\"OpenAI\",\n",
      "            \"Industry\":\"Artificial Intelligence\"\n",
      "        }\n",
      "    ],\n",
      "    \"People\":[\n",
      "        {\n",
      "            \"Name\":\"Sam Altman\",\n",
      "            \"Organization\":\"OpenAI\"\n",
      "        },\n",
      "        {\n",
      "            \"Name\":\"Peter Thiel\",\n",
      "            \"Organization\":\"OpenAI\"\n",
      "        },\n",
      "        {\n",
      "            \"Name\":\"Reid Hoffman\",\n",
      "            \"Organization\":\"OpenAI\"\n",
      "        }\n",
      "    ],\n",
      "    \"Events\":[\n",
      "        {\n",
      "            \"Name\":\"Investment Announcement\",\n",
      "            \"Date\":\"Unknown\",\n",
      "            \"Location\":\"San Francisco\"\n",
      "        }\n",
      "    ]\n",
      "}\n",
      "\n"
     ]
    }
   ],
   "source": [
    "system_message2 = \"\"\"\n",
    "You're complinace reviewer. \n",
    "You need to collect and extract meaingful data from email, document, web page, etc.\n",
    "Summary must be concise and clear, less than 150 words.\n",
    "\n",
    "Include following meta data for the analysis\n",
    "* Source\n",
    " * Type: {Email, Document, Web page, etc.}\n",
    "\n",
    "Extract data \n",
    "* Title\n",
    "* Summary\n",
    "* Organization names\n",
    "* Organization industries\n",
    "* People\n",
    " * Name \n",
    " * Organization\n",
    "* Events\n",
    "    * Event name\n",
    "    * Event date and/or time\n",
    "    * Event location\n",
    "\n",
    "## Reponse \n",
    "Use JSON format\n",
    "\n",
    "## Response example\n",
    "```\n",
    "{\n",
    "    \"SourceType\":\"WebPage\",\n",
    "    \"Title\": \"Big announcement from A about B\"\n",
    "    \"Summary\":\"A made an announcement about B.\",\n",
    "    \"Organizations\":[\n",
    "        {\n",
    "            \"Name\":\"A\",\n",
    "            \"Industry\":\"Technology\"\n",
    "        },\n",
    "        {\n",
    "            \"Name\":\"B\",\n",
    "            \"Industry\":\"Technology\"\n",
    "        }\n",
    "    ],\n",
    "    \"People\":[\n",
    "        {\n",
    "            \"Name\":\"C\",\n",
    "            \"Organization\":\"A\"\n",
    "        },\n",
    "        {\n",
    "            \"Name\":\"D\",\n",
    "            \"Organization\":\"B\"\n",
    "        }\n",
    "    ],\n",
    "    \"Events\":[\n",
    "        {\n",
    "            \"Name\":\"Announcement\",\n",
    "            \"Date\":\"2021-07-01T00:00:00Z\",\n",
    "            \"Location\":\"US\"\n",
    "        }\n",
    "    ]\n",
    "}\n",
    "```\n",
    "\"\"\"\n",
    "\n",
    "user_prompt2 = \"\"\"\n",
    "--- article ---\n",
    "Title: {{title}}\n",
    "\n",
    "{{web_data}}\n",
    "------\n",
    "\n",
    "\"\"\"\n",
    "\n",
    "system_msg2 = {\"role\":\"system\",\"content\":system_message2}\n",
    "user_msg2 = {\"role\":\"user\",\"content\":user_prompt2.replace(\"{{title}}\", web_title.get_text()).replace(\"{{web_data}}\", plan_text)}\n",
    "prompt2 = [system_msg2, user_msg2]\n",
    "res2 = utils.run(prompt2, temperature=0.0, max_tokens=2500, top_p=0.0)\n",
    "result2 = res2.split(\"```\")[1]\n",
    "print(result2)"
   ]
  },
  {
   "cell_type": "code",
   "execution_count": 8,
   "metadata": {},
   "outputs": [],
   "source": [
    "system_message3 = \"\"\"\n",
    "You are a compliance reviewer who monitors the news for compliance issues in an aduit team in a technology company.\n",
    "The Find a Anti-Bribery and Anti-Corruption case.\n",
    "\n",
    "## Review tasks\n",
    "\n",
    "### 1. Explain relationship between people and organization\n",
    "Understand the relationships between different people and organizations in the case.\n",
    "Explain the relationship\n",
    "\n",
    "### 2. Clssify the case\n",
    "Classify the case has a potential compliance issue or not.\n",
    "And explain when the event is classified.\n",
    "\n",
    "## Reponse\n",
    "Do not reveal the review task steps\n",
    "Your response must be concise and clear and use Markdown format\n",
    "Provide visual to show relationship between people and organization\n",
    "Provide clear result at the end of the response Compliance issue or No issue with risk level, 0 is no risk, 10 is high risk\n",
    "\n",
    "### Visual sample\n",
    "Use '-, |, <, >, ...' to show relationship\n",
    "A --- B --- C\n",
    "      |\n",
    "      |\n",
    "      V\n",
    "     abc, deb, gh \n",
    "\n",
    "### Results\n",
    "Risk level: ##/10\n",
    "\"\"\"\n",
    "\n",
    "user_prompt3 = \"\"\"\n",
    "--- case ---\n",
    "{{case_data}}\n",
    "------\n",
    "\"\"\""
   ]
  },
  {
   "cell_type": "code",
   "execution_count": 9,
   "metadata": {},
   "outputs": [
    {
     "data": {
      "text/markdown": [
       "### Relationship between People and Organization\n",
       "\n",
       "In this case, the organizations involved are Microsoft Corp and OpenAI. Microsoft Corp is a technology company that announced a $1 billion investment in OpenAI, an artificial intelligence company based in San Francisco. \n",
       "\n",
       "The people mentioned in the case are Sam Altman, Peter Thiel, and Reid Hoffman, who are all associated with OpenAI. \n",
       "\n",
       "The relationship can be visualized as follows:\n",
       "\n",
       "```\n",
       "Microsoft Corp --- $1 billion investment ---> OpenAI\n",
       "                                               ^\n",
       "                                               |\n",
       "                                               |\n",
       "                                               V\n",
       "                                  Sam Altman, Peter Thiel, Reid Hoffman\n",
       "```\n",
       "\n",
       "### Classification of the Case\n",
       "\n",
       "This case does not present any potential compliance issues. The event described is a business investment by Microsoft Corp in OpenAI. There is no mention of any illegal activities, bribery, or corruption related to this investment. \n",
       "\n",
       "### Results\n",
       "\n",
       "Risk level: 0/10 (No risk)"
      ],
      "text/plain": [
       "<IPython.core.display.Markdown object>"
      ]
     },
     "metadata": {},
     "output_type": "display_data"
    }
   ],
   "source": [
    "\n",
    "system_msg3 = {\"role\":\"system\",\"content\":system_message3}\n",
    "user_msg3 = {\"role\":\"user\",\"content\":user_prompt3.replace(\"{{case_data}}\", result2)}\n",
    "prompt3 = [system_msg3, user_msg3]\n",
    "res3 = utils.run(prompt3, temperature=1.0, max_tokens=2500, top_p=0.0)\n",
    "display(Markdown(res3))"
   ]
  },
  {
   "cell_type": "code",
   "execution_count": 10,
   "metadata": {},
   "outputs": [],
   "source": [
    "sample_case = \"\"\"\n",
    "8/25/2022\tCall with Nicolas Cage\n",
    "9/15/2022\tCall with Nicolas Cage\n",
    "9/21/2022\tNicolas Cage becomes President of ABCD Cardiology Association\n",
    "9/27/2022\tSponsorship payment of 1000 to ABCD Cardiology Association\n",
    "10/3/2022\tCall with Nicolas Cage\n",
    "11/4/2022\tNicolas Cage announced as future member of ABCD Ministry of Health Formulary Committee\n",
    "11/12/2022\tCall with Nicolas Cage\n",
    "11/20/2022\tSponsorship payment of 500 to ABCD Cardiology Association\n",
    "12/16/2022\tCall with Nicolas Cage\n",
    "1/1/2023\tNicolas Cage effective as member of ABCD Ministry of Health Formulary Committee\n",
    "1/11/2023\tCall with Nicolas Cage\n",
    "1/17/2023\tSponsorship payment of 500 to ABCD Cardiology Association\n",
    "1/23/2023\tABCD Ministry of Health Formulary Committee approves new indication for XYZ cardiology medicine \n",
    "2/14/2023\tImproper behaviour at ABCD Cardiology Association event\n",
    "\"\"\""
   ]
  },
  {
   "cell_type": "code",
   "execution_count": 11,
   "metadata": {},
   "outputs": [
    {
     "ename": "InvalidRequestError",
     "evalue": "5.0 is greater than the maximum of 2 - 'temperature'",
     "output_type": "error",
     "traceback": [
      "\u001b[1;31m---------------------------------------------------------------------------\u001b[0m",
      "\u001b[1;31mInvalidRequestError\u001b[0m                       Traceback (most recent call last)",
      "\u001b[1;32mc:\\Users\\hyssh\\workspace\\openai-demo\\quickstart-learnfast\\web-scraping\\web-scraping.ipynb Cell 11\u001b[0m line \u001b[0;36m4\n\u001b[0;32m      <a href='vscode-notebook-cell:/c%3A/Users/hyssh/workspace/openai-demo/quickstart-learnfast/web-scraping/web-scraping.ipynb#X22sZmlsZQ%3D%3D?line=1'>2</a>\u001b[0m user_msg4 \u001b[39m=\u001b[39m {\u001b[39m\"\u001b[39m\u001b[39mrole\u001b[39m\u001b[39m\"\u001b[39m:\u001b[39m\"\u001b[39m\u001b[39muser\u001b[39m\u001b[39m\"\u001b[39m,\u001b[39m\"\u001b[39m\u001b[39mcontent\u001b[39m\u001b[39m\"\u001b[39m:user_prompt3\u001b[39m.\u001b[39mreplace(\u001b[39m\"\u001b[39m\u001b[39m{{\u001b[39m\u001b[39mcase_data}}\u001b[39m\u001b[39m\"\u001b[39m, sample_case)}\n\u001b[0;32m      <a href='vscode-notebook-cell:/c%3A/Users/hyssh/workspace/openai-demo/quickstart-learnfast/web-scraping/web-scraping.ipynb#X22sZmlsZQ%3D%3D?line=2'>3</a>\u001b[0m prompt4 \u001b[39m=\u001b[39m [system_msg4, user_msg4]\n\u001b[1;32m----> <a href='vscode-notebook-cell:/c%3A/Users/hyssh/workspace/openai-demo/quickstart-learnfast/web-scraping/web-scraping.ipynb#X22sZmlsZQ%3D%3D?line=3'>4</a>\u001b[0m res4 \u001b[39m=\u001b[39m utils\u001b[39m.\u001b[39;49mrun(prompt4, temperature\u001b[39m=\u001b[39;49m\u001b[39m5.0\u001b[39;49m, max_tokens\u001b[39m=\u001b[39;49m\u001b[39m1000\u001b[39;49m, top_p\u001b[39m=\u001b[39;49m\u001b[39m0.0\u001b[39;49m)\n\u001b[0;32m      <a href='vscode-notebook-cell:/c%3A/Users/hyssh/workspace/openai-demo/quickstart-learnfast/web-scraping/web-scraping.ipynb#X22sZmlsZQ%3D%3D?line=4'>5</a>\u001b[0m display(Markdown(res4))\n",
      "File \u001b[1;32mc:\\Users\\hyssh\\workspace\\openai-demo\\quickstart-learnfast\\web-scraping\\demo_utils.py:28\u001b[0m, in \u001b[0;36mdemo_utils.run\u001b[1;34m(self, prompt, temperature, max_tokens, top_p, frequency_penalty, presence_penalty, stop, isRaw)\u001b[0m\n\u001b[0;32m     22\u001b[0m \u001b[39mdef\u001b[39;00m \u001b[39mrun\u001b[39m(\u001b[39mself\u001b[39m, prompt, temperature: \u001b[39mfloat\u001b[39m\u001b[39m=\u001b[39m\u001b[39m0.5\u001b[39m, max_tokens: \u001b[39mint\u001b[39m\u001b[39m=\u001b[39m\u001b[39m500\u001b[39m, \n\u001b[0;32m     23\u001b[0m              top_p: \u001b[39mfloat\u001b[39m\u001b[39m=\u001b[39m\u001b[39m0.5\u001b[39m, \n\u001b[0;32m     24\u001b[0m              frequency_penalty: \u001b[39mfloat\u001b[39m\u001b[39m=\u001b[39m\u001b[39m0.0\u001b[39m, \n\u001b[0;32m     25\u001b[0m              presence_penalty: \u001b[39mfloat\u001b[39m\u001b[39m=\u001b[39m\u001b[39m0.0\u001b[39m,\n\u001b[0;32m     26\u001b[0m              stop: \u001b[39mlist\u001b[39m\u001b[39m=\u001b[39m[],\n\u001b[0;32m     27\u001b[0m              isRaw: \u001b[39mbool\u001b[39m\u001b[39m=\u001b[39m\u001b[39mFalse\u001b[39;00m):\n\u001b[1;32m---> 28\u001b[0m     response \u001b[39m=\u001b[39m \u001b[39mself\u001b[39;49m\u001b[39m.\u001b[39;49mopenai\u001b[39m.\u001b[39;49mChatCompletion\u001b[39m.\u001b[39;49mcreate(\n\u001b[0;32m     29\u001b[0m         engine\u001b[39m=\u001b[39;49m\u001b[39mself\u001b[39;49m\u001b[39m.\u001b[39;49mengine,\n\u001b[0;32m     30\u001b[0m         messages\u001b[39m=\u001b[39;49mprompt,\n\u001b[0;32m     31\u001b[0m         temperature\u001b[39m=\u001b[39;49mtemperature,\n\u001b[0;32m     32\u001b[0m         max_tokens\u001b[39m=\u001b[39;49mmax_tokens,\n\u001b[0;32m     33\u001b[0m         top_p\u001b[39m=\u001b[39;49mtop_p,\n\u001b[0;32m     34\u001b[0m         frequency_penalty\u001b[39m=\u001b[39;49mfrequency_penalty,\n\u001b[0;32m     35\u001b[0m         presence_penalty\u001b[39m=\u001b[39;49mpresence_penalty,\n\u001b[0;32m     36\u001b[0m         stop\u001b[39m=\u001b[39;49mstop\n\u001b[0;32m     37\u001b[0m     )\n\u001b[0;32m     39\u001b[0m     \u001b[39mif\u001b[39;00m isRaw:\n\u001b[0;32m     40\u001b[0m         \u001b[39mreturn\u001b[39;00m response\n",
      "File \u001b[1;32mc:\\Users\\hyssh\\AppData\\Local\\anaconda3\\envs\\openai\\lib\\site-packages\\openai\\api_resources\\chat_completion.py:25\u001b[0m, in \u001b[0;36mChatCompletion.create\u001b[1;34m(cls, *args, **kwargs)\u001b[0m\n\u001b[0;32m     23\u001b[0m \u001b[39mwhile\u001b[39;00m \u001b[39mTrue\u001b[39;00m:\n\u001b[0;32m     24\u001b[0m     \u001b[39mtry\u001b[39;00m:\n\u001b[1;32m---> 25\u001b[0m         \u001b[39mreturn\u001b[39;00m \u001b[39msuper\u001b[39m()\u001b[39m.\u001b[39mcreate(\u001b[39m*\u001b[39margs, \u001b[39m*\u001b[39m\u001b[39m*\u001b[39mkwargs)\n\u001b[0;32m     26\u001b[0m     \u001b[39mexcept\u001b[39;00m TryAgain \u001b[39mas\u001b[39;00m e:\n\u001b[0;32m     27\u001b[0m         \u001b[39mif\u001b[39;00m timeout \u001b[39mis\u001b[39;00m \u001b[39mnot\u001b[39;00m \u001b[39mNone\u001b[39;00m \u001b[39mand\u001b[39;00m time\u001b[39m.\u001b[39mtime() \u001b[39m>\u001b[39m start \u001b[39m+\u001b[39m timeout:\n",
      "File \u001b[1;32mc:\\Users\\hyssh\\AppData\\Local\\anaconda3\\envs\\openai\\lib\\site-packages\\openai\\api_resources\\abstract\\engine_api_resource.py:153\u001b[0m, in \u001b[0;36mEngineAPIResource.create\u001b[1;34m(cls, api_key, api_base, api_type, request_id, api_version, organization, **params)\u001b[0m\n\u001b[0;32m    127\u001b[0m \u001b[39m@classmethod\u001b[39m\n\u001b[0;32m    128\u001b[0m \u001b[39mdef\u001b[39;00m \u001b[39mcreate\u001b[39m(\n\u001b[0;32m    129\u001b[0m     \u001b[39mcls\u001b[39m,\n\u001b[1;32m   (...)\u001b[0m\n\u001b[0;32m    136\u001b[0m     \u001b[39m*\u001b[39m\u001b[39m*\u001b[39mparams,\n\u001b[0;32m    137\u001b[0m ):\n\u001b[0;32m    138\u001b[0m     (\n\u001b[0;32m    139\u001b[0m         deployment_id,\n\u001b[0;32m    140\u001b[0m         engine,\n\u001b[1;32m   (...)\u001b[0m\n\u001b[0;32m    150\u001b[0m         api_key, api_base, api_type, api_version, organization, \u001b[39m*\u001b[39m\u001b[39m*\u001b[39mparams\n\u001b[0;32m    151\u001b[0m     )\n\u001b[1;32m--> 153\u001b[0m     response, _, api_key \u001b[39m=\u001b[39m requestor\u001b[39m.\u001b[39;49mrequest(\n\u001b[0;32m    154\u001b[0m         \u001b[39m\"\u001b[39;49m\u001b[39mpost\u001b[39;49m\u001b[39m\"\u001b[39;49m,\n\u001b[0;32m    155\u001b[0m         url,\n\u001b[0;32m    156\u001b[0m         params\u001b[39m=\u001b[39;49mparams,\n\u001b[0;32m    157\u001b[0m         headers\u001b[39m=\u001b[39;49mheaders,\n\u001b[0;32m    158\u001b[0m         stream\u001b[39m=\u001b[39;49mstream,\n\u001b[0;32m    159\u001b[0m         request_id\u001b[39m=\u001b[39;49mrequest_id,\n\u001b[0;32m    160\u001b[0m         request_timeout\u001b[39m=\u001b[39;49mrequest_timeout,\n\u001b[0;32m    161\u001b[0m     )\n\u001b[0;32m    163\u001b[0m     \u001b[39mif\u001b[39;00m stream:\n\u001b[0;32m    164\u001b[0m         \u001b[39m# must be an iterator\u001b[39;00m\n\u001b[0;32m    165\u001b[0m         \u001b[39massert\u001b[39;00m \u001b[39mnot\u001b[39;00m \u001b[39misinstance\u001b[39m(response, OpenAIResponse)\n",
      "File \u001b[1;32mc:\\Users\\hyssh\\AppData\\Local\\anaconda3\\envs\\openai\\lib\\site-packages\\openai\\api_requestor.py:230\u001b[0m, in \u001b[0;36mAPIRequestor.request\u001b[1;34m(self, method, url, params, headers, files, stream, request_id, request_timeout)\u001b[0m\n\u001b[0;32m    209\u001b[0m \u001b[39mdef\u001b[39;00m \u001b[39mrequest\u001b[39m(\n\u001b[0;32m    210\u001b[0m     \u001b[39mself\u001b[39m,\n\u001b[0;32m    211\u001b[0m     method,\n\u001b[1;32m   (...)\u001b[0m\n\u001b[0;32m    218\u001b[0m     request_timeout: Optional[Union[\u001b[39mfloat\u001b[39m, Tuple[\u001b[39mfloat\u001b[39m, \u001b[39mfloat\u001b[39m]]] \u001b[39m=\u001b[39m \u001b[39mNone\u001b[39;00m,\n\u001b[0;32m    219\u001b[0m ) \u001b[39m-\u001b[39m\u001b[39m>\u001b[39m Tuple[Union[OpenAIResponse, Iterator[OpenAIResponse]], \u001b[39mbool\u001b[39m, \u001b[39mstr\u001b[39m]:\n\u001b[0;32m    220\u001b[0m     result \u001b[39m=\u001b[39m \u001b[39mself\u001b[39m\u001b[39m.\u001b[39mrequest_raw(\n\u001b[0;32m    221\u001b[0m         method\u001b[39m.\u001b[39mlower(),\n\u001b[0;32m    222\u001b[0m         url,\n\u001b[1;32m   (...)\u001b[0m\n\u001b[0;32m    228\u001b[0m         request_timeout\u001b[39m=\u001b[39mrequest_timeout,\n\u001b[0;32m    229\u001b[0m     )\n\u001b[1;32m--> 230\u001b[0m     resp, got_stream \u001b[39m=\u001b[39m \u001b[39mself\u001b[39;49m\u001b[39m.\u001b[39;49m_interpret_response(result, stream)\n\u001b[0;32m    231\u001b[0m     \u001b[39mreturn\u001b[39;00m resp, got_stream, \u001b[39mself\u001b[39m\u001b[39m.\u001b[39mapi_key\n",
      "File \u001b[1;32mc:\\Users\\hyssh\\AppData\\Local\\anaconda3\\envs\\openai\\lib\\site-packages\\openai\\api_requestor.py:624\u001b[0m, in \u001b[0;36mAPIRequestor._interpret_response\u001b[1;34m(self, result, stream)\u001b[0m\n\u001b[0;32m    616\u001b[0m     \u001b[39mreturn\u001b[39;00m (\n\u001b[0;32m    617\u001b[0m         \u001b[39mself\u001b[39m\u001b[39m.\u001b[39m_interpret_response_line(\n\u001b[0;32m    618\u001b[0m             line, result\u001b[39m.\u001b[39mstatus_code, result\u001b[39m.\u001b[39mheaders, stream\u001b[39m=\u001b[39m\u001b[39mTrue\u001b[39;00m\n\u001b[0;32m    619\u001b[0m         )\n\u001b[0;32m    620\u001b[0m         \u001b[39mfor\u001b[39;00m line \u001b[39min\u001b[39;00m parse_stream(result\u001b[39m.\u001b[39miter_lines())\n\u001b[0;32m    621\u001b[0m     ), \u001b[39mTrue\u001b[39;00m\n\u001b[0;32m    622\u001b[0m \u001b[39melse\u001b[39;00m:\n\u001b[0;32m    623\u001b[0m     \u001b[39mreturn\u001b[39;00m (\n\u001b[1;32m--> 624\u001b[0m         \u001b[39mself\u001b[39;49m\u001b[39m.\u001b[39;49m_interpret_response_line(\n\u001b[0;32m    625\u001b[0m             result\u001b[39m.\u001b[39;49mcontent\u001b[39m.\u001b[39;49mdecode(\u001b[39m\"\u001b[39;49m\u001b[39mutf-8\u001b[39;49m\u001b[39m\"\u001b[39;49m),\n\u001b[0;32m    626\u001b[0m             result\u001b[39m.\u001b[39;49mstatus_code,\n\u001b[0;32m    627\u001b[0m             result\u001b[39m.\u001b[39;49mheaders,\n\u001b[0;32m    628\u001b[0m             stream\u001b[39m=\u001b[39;49m\u001b[39mFalse\u001b[39;49;00m,\n\u001b[0;32m    629\u001b[0m         ),\n\u001b[0;32m    630\u001b[0m         \u001b[39mFalse\u001b[39;00m,\n\u001b[0;32m    631\u001b[0m     )\n",
      "File \u001b[1;32mc:\\Users\\hyssh\\AppData\\Local\\anaconda3\\envs\\openai\\lib\\site-packages\\openai\\api_requestor.py:687\u001b[0m, in \u001b[0;36mAPIRequestor._interpret_response_line\u001b[1;34m(self, rbody, rcode, rheaders, stream)\u001b[0m\n\u001b[0;32m    685\u001b[0m stream_error \u001b[39m=\u001b[39m stream \u001b[39mand\u001b[39;00m \u001b[39m\"\u001b[39m\u001b[39merror\u001b[39m\u001b[39m\"\u001b[39m \u001b[39min\u001b[39;00m resp\u001b[39m.\u001b[39mdata\n\u001b[0;32m    686\u001b[0m \u001b[39mif\u001b[39;00m stream_error \u001b[39mor\u001b[39;00m \u001b[39mnot\u001b[39;00m \u001b[39m200\u001b[39m \u001b[39m<\u001b[39m\u001b[39m=\u001b[39m rcode \u001b[39m<\u001b[39m \u001b[39m300\u001b[39m:\n\u001b[1;32m--> 687\u001b[0m     \u001b[39mraise\u001b[39;00m \u001b[39mself\u001b[39m\u001b[39m.\u001b[39mhandle_error_response(\n\u001b[0;32m    688\u001b[0m         rbody, rcode, resp\u001b[39m.\u001b[39mdata, rheaders, stream_error\u001b[39m=\u001b[39mstream_error\n\u001b[0;32m    689\u001b[0m     )\n\u001b[0;32m    690\u001b[0m \u001b[39mreturn\u001b[39;00m resp\n",
      "\u001b[1;31mInvalidRequestError\u001b[0m: 5.0 is greater than the maximum of 2 - 'temperature'"
     ]
    }
   ],
   "source": [
    "system_msg4 = {\"role\":\"system\",\"content\":system_message3}\n",
    "user_msg4 = {\"role\":\"user\",\"content\":user_prompt3.replace(\"{{case_data}}\", sample_case)}\n",
    "prompt4 = [system_msg4, user_msg4]\n",
    "res4 = utils.run(prompt4, temperature=5.0, max_tokens=1000, top_p=0.0)\n",
    "display(Markdown(res4))"
   ]
  },
  {
   "cell_type": "code",
   "execution_count": null,
   "metadata": {},
   "outputs": [],
   "source": []
  }
 ],
 "metadata": {
  "kernelspec": {
   "display_name": "openai",
   "language": "python",
   "name": "python3"
  },
  "language_info": {
   "codemirror_mode": {
    "name": "ipython",
    "version": 3
   },
   "file_extension": ".py",
   "mimetype": "text/x-python",
   "name": "python",
   "nbconvert_exporter": "python",
   "pygments_lexer": "ipython3",
   "version": "3.10.11"
  }
 },
 "nbformat": 4,
 "nbformat_minor": 2
}
