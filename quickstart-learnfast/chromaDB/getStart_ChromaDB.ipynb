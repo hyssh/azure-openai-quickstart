{
 "cells": [
  {
   "cell_type": "code",
   "execution_count": 1,
   "metadata": {},
   "outputs": [],
   "source": [
    "import os\n",
    "import openai\n",
    "import dotenv\n",
    "import pandas as pd\n",
    "import seaborn as sns\n",
    "import openai\n",
    "from chromadb.utils import embedding_functions\n",
    "\n",
    "# .env file must have OPENAI_API_KEY and OPENAI_API_BASE\n",
    "dotenv.load_dotenv()\n",
    "openai.api_type = \"azure\"\n",
    "openai.api_base = os.getenv(\"OPENAI_API_BASE\")\n",
    "openai.api_version = \"2023-03-15-preview\"\n",
    "openai.api_key = os.getenv(\"OPENAI_API_KEY\")\n",
    "\n",
    "# Using OpenAI Embeddings. This assumes you have the openai package installed\n",
    "openai_ef = embedding_functions.OpenAIEmbeddingFunction(\n",
    "    api_key=os.getenv(\"OPENAI_API_KEY\"), # Replace with your own OpenAI API key\n",
    "    model_name=\"text-embedding-ada-002\"\n",
    ")\n"
   ]
  },
  {
   "cell_type": "markdown",
   "metadata": {},
   "source": [
    "Change default distance function\n",
    "\n",
    "```python\n",
    " collection = client.create_collection(\n",
    "        name=\"collection_name\",\n",
    "        metadata={\"hnsw:space\": \"cosine\"} # l2 is the default\n",
    "    )\n",
    "```"
   ]
  },
  {
   "cell_type": "code",
   "execution_count": 2,
   "metadata": {},
   "outputs": [],
   "source": [
    "import chromadb\n",
    "# setup Chroma in-memory, for easy prototyping. Can add persistence easily!\n",
    "client = chromadb.Client()\n",
    "\n",
    "# Create collection. get_collection, get_or_create_collection, delete_collection also available!\n",
    "db_name = \"quick-start\"\n",
    "collection = client.get_or_create_collection(db_name,  embedding_function=openai_ef)"
   ]
  },
  {
   "cell_type": "code",
   "execution_count": 3,
   "metadata": {},
   "outputs": [],
   "source": [
    "# sample text in string\n",
    "sample_text1 = \"Azure Machine Learning is for data scientists, data engineers, and AI developers to build, train, deploy, and manage machine learning models.\"\n",
    "sample_text2 = \"I recommend AzureML to data scientists for building, training, deploying, and managing machine learning models.\"\n",
    "sample_text3 = \"There are many ways to consume coffee. Espresso, Latte and Cappuccino are popular ways to consume coffee. In addition to these, ice coffee is also popular.\"\n",
    "sample_text4 = \"IT professional looking up in air, holding a scrolled old paper in the right hand and clicking in upper space as. On the other side there is a robot  that has AI trying to respond to the human use matrix as background and have magic spell overlapped with the background\"\n",
    "sample_text5 = \"Charming family home nestled in a tranquil neighborhood. This spacious abode boasts four bedrooms, three bathrooms, and a modern kitchen. Open-concept living area perfect for entertaining. Large windows bathe rooms in natural light. Landscaped backyard ideal for summer BBQs. Two-car garage. Close to schools and amenities. A warm, welcoming space to create lasting memories.\"\n",
    "sample_text6 = \"Inspect the jet engine thoroughly. Identify any visible damage. Check for leaks, cracks, or signs of wear. Replace faulty components. Clean the engine using approved solvents. Test engine systems for proper operation. Monitor performance metrics. Adjust settings as needed. Document all actions taken. Ensure safety procedures are followed at all times.\"\n",
    "\n",
    "samples = [sample_text1, sample_text2, sample_text3, sample_text4, sample_text5, sample_text6]\n"
   ]
  },
  {
   "cell_type": "code",
   "execution_count": 4,
   "metadata": {},
   "outputs": [],
   "source": [
    "# Add docs to the collection. Can also update and delete. Row-based API coming soon!\n",
    "collection.add(\n",
    "    documents=samples, # we handle tokenization, embedding, and indexing automatically. You can skip that and add your own embeddings as well\n",
    "    ids=[\"sample1\", \"sample2\", \"sample3\", \"sample4\", \"sample5\", \"sample6\"], # unique for each doc\n",
    ")"
   ]
  },
  {
   "cell_type": "code",
   "execution_count": 5,
   "metadata": {},
   "outputs": [
    {
     "data": {
      "text/plain": [
       "{'ids': [['sample1', 'sample2', 'sample4']],\n",
       " 'distances': [[0.14872786402702332,\n",
       "   0.19057705998420715,\n",
       "   0.38556766510009766]],\n",
       " 'metadatas': None,\n",
       " 'embeddings': None,\n",
       " 'documents': None}"
      ]
     },
     "execution_count": 5,
     "metadata": {},
     "output_type": "execute_result"
    }
   ],
   "source": [
    "# get embedding for query text\n",
    "query = \"Azure Machine Learning\"\n",
    "\n",
    "query_results = collection.query(query_texts=query, n_results=3, include=['distances']) \n",
    "query_results\n"
   ]
  },
  {
   "cell_type": "code",
   "execution_count": 6,
   "metadata": {},
   "outputs": [],
   "source": [
    "client.delete_collection(db_name)"
   ]
  }
 ],
 "metadata": {
  "kernelspec": {
   "display_name": "openai",
   "language": "python",
   "name": "python3"
  },
  "language_info": {
   "codemirror_mode": {
    "name": "ipython",
    "version": 3
   },
   "file_extension": ".py",
   "mimetype": "text/x-python",
   "name": "python",
   "nbconvert_exporter": "python",
   "pygments_lexer": "ipython3",
   "version": "3.10.11"
  },
  "orig_nbformat": 4
 },
 "nbformat": 4,
 "nbformat_minor": 2
}
