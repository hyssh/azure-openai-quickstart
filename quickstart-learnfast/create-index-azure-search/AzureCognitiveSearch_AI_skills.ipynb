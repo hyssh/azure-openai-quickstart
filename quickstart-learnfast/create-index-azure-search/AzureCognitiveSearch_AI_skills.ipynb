{
 "cells": [
  {
   "cell_type": "code",
   "execution_count": 2,
   "metadata": {},
   "outputs": [],
   "source": [
    "import os\n",
    "import json\n",
    "import time\n",
    "import requests\n",
    "import random\n",
    "import base64\n",
    "from collections import OrderedDict\n",
    "import urllib.request\n",
    "# from tqdm import tqdm\n",
    "import openai\n",
    "from dotenv import load_dotenv\n",
    "from typing import List\n",
    "\n",
    "load_dotenv()\n",
    "\n",
    "headers = {'Content-Type': 'application/json','api-key': os.environ['AZURE_SEARCH_KEY']}\n",
    "params = {'api-version': os.environ['AZURE_SEARCH_API_VERSION']}\n",
    "\n"
   ]
  },
  {
   "cell_type": "markdown",
   "metadata": {},
   "source": [
    "## 1. Create Data Source\n",
    "\n",
    "https://learn.microsoft.com/en-us/rest/api/searchservice/create-data-source\n",
    "\n",
    "```json\n",
    "data_source = {   \n",
    "    \"name\" : (optional on PUT; required on POST) \"Name of the data source\",  \n",
    "    \"description\" : (optional) \"Anything you want, or nothing at all\",  \n",
    "    \"type\" : (required) \"Must be a supported data source\",\n",
    "    \"credentials\" : (required) { \"connectionString\" : \"Connection string for your data source\" },\n",
    "    \"container\": {\n",
    "        \"name\": \"Name of the table, view, collection, or blob container you wish to index\",\n",
    "        \"query\": (optional) \n",
    "    },\n",
    "    \"dataChangeDetectionPolicy\" : (optional) {See below for details },\n",
    "    \"dataDeletionDetectionPolicy\" : (optional) {See below for details },\n",
    "    \"encryptionKey\":(optional) { }\n",
    "}\n",
    "\n",
    "```"
   ]
  },
  {
   "cell_type": "code",
   "execution_count": 3,
   "metadata": {},
   "outputs": [],
   "source": [
    "# define data source\n",
    "BLOB_CONTAINER_NAME = \"document-chunks\"\n",
    "DATA_SOURCE_NAME = \"demo-blob-source\"\n",
    "\n",
    "data_source = {\n",
    "  \"name\": DATA_SOURCE_NAME,\n",
    "  \"description\": \"Sample data\",\n",
    "  \"type\": \"azureblob\",\n",
    "  \"credentials\": {\n",
    "    \"connectionString\": os.getenv(\"CONNECTION_STRING\")\n",
    "  },\n",
    "  \"container\": {\n",
    "    \"name\": BLOB_CONTAINER_NAME,\n",
    "  },\n",
    "}\n"
   ]
  },
  {
   "cell_type": "code",
   "execution_count": null,
   "metadata": {},
   "outputs": [],
   "source": [
    "\n",
    "r = requests.POST(os.environ['AZURE_SEARCH_ENDPOINT'] + \"/indexes/\" + INDEX_NAME, data=json.dumps(index_payload), headers=headers, params=params)\n",
    "print(r.status_code)\n",
    "print(r.ok)    "
   ]
  },
  {
   "cell_type": "markdown",
   "metadata": {},
   "source": [
    "## 2. Create an Index"
   ]
  },
  {
   "cell_type": "code",
   "execution_count": 4,
   "metadata": {},
   "outputs": [],
   "source": [
    "INDEX_NAME = \"demo-index-ai-skilled\"\n",
    "\n",
    "index_payload = {\n",
    "    \"name\": INDEX_NAME,\n",
    "    \"fields\": [\n",
    "        {\"name\": \"id\", \"type\": \"Edm.String\", \"key\": \"true\", \"filterable\": \"true\" },\n",
    "        {\"name\": \"title\",\"type\": \"Edm.String\",\"searchable\": \"true\",\"retrievable\": \"true\"},\n",
    "        {\"name\": \"content\",\"type\": \"Edm.String\",\"searchable\": \"true\",\"retrievable\": \"true\"},\n",
    "        {\"name\": \"name\", \"type\": \"Edm.String\", \"searchable\": \"true\", \"retrievable\": \"true\", \"sortable\": \"false\", \"filterable\": \"false\", \"facetable\": \"false\"},\n",
    "        {\"name\": \"location\", \"type\": \"Edm.String\", \"searchable\": \"false\", \"retrievable\": \"true\", \"sortable\": \"false\", \"filterable\": \"false\", \"facetable\": \"false\"},\n",
    "        {\"name\": \"page_num\",\"type\": \"Edm.Int32\",\"searchable\": \"false\",\"retrievable\": \"true\"},\n",
    "        {\"name\": \"keyphrases\",\"type\": \"Collection(Edm.String)\",\"searchable\": \"true\",\"filterable\": \"false\",\"retrievable\": \"true\",\"sortable\": \"false\",\"facetable\": \"false\",\"key\": \"false\",\"analyzer\": \"standard.lucene\",\"synonymMaps\": []}    \n",
    "    ],\n",
    "    \"semantic\": {\n",
    "        \"configurations\": [\n",
    "            {\n",
    "                \"name\": \"default\",\n",
    "                \"prioritizedFields\": {\n",
    "                    \"titleField\": {\n",
    "                        \"fieldName\": \"title\"\n",
    "                    },\n",
    "                    \"prioritizedContentFields\": [\n",
    "                        {\n",
    "                            \"fieldName\": \"content\"\n",
    "                        }\n",
    "                    ],\n",
    "                    \"prioritizedKeywordsFields\": [\n",
    "                        {\n",
    "                            \"fieldName\": \"keyphrases\"\n",
    "                        }\n",
    "                    ]\n",
    "                }\n",
    "            }\n",
    "        ]\n",
    "    }\n",
    "}"
   ]
  },
  {
   "cell_type": "code",
   "execution_count": null,
   "metadata": {},
   "outputs": [],
   "source": [
    "r = requests.put(os.environ['AZURE_SEARCH_ENDPOINT'] + \"/indexes/\" + INDEX_NAME, data=json.dumps(index_payload), headers=headers, params=params)\n",
    "print(r.status_code)\n",
    "print(r.ok)    "
   ]
  },
  {
   "cell_type": "markdown",
   "metadata": {},
   "source": [
    "## 3. Create SkillSet\n",
    "\n",
    "```json\n",
    "{\n",
    "    \"name\": \"{{skillset-name}}\",\n",
    "    \"description\": \"Skillset to detect language, translate text, extract key phrases, and score sentiment\",\n",
    "    \"skills\": [ \n",
    "        {\n",
    "            \"@odata.type\": \"#Microsoft.Skills.Text.KeyPhraseExtractionSkill\",\n",
    "            \"context\": \"/document/reviews_text/pages/*\",\n",
    "            \"inputs\": [\n",
    "                { \"name\": \"text\",  \"source\": \"/document/reviews_text/pages/*\" },\n",
    "                { \"name\": \"languageCode\",  \"source\": \"/document/language\" }\n",
    "            ],\n",
    "            \"outputs\": [\n",
    "                { \"name\": \"keyPhrases\" , \"targetName\": \"keyphrases\" }\n",
    "            ]\n",
    "        },\n",
    "    ]\n",
    "}\n",
    "```"
   ]
  },
  {
   "cell_type": "code",
   "execution_count": 5,
   "metadata": {},
   "outputs": [],
   "source": [
    "SKILL_NAME = \"keyphrase-extraction-skillset\"\n",
    "\n",
    "skillset_payload = {\n",
    "    \"name\": SKILL_NAME,\n",
    "    \"description\": \"Skillset to detect language, translate text, extract key phrases, and score sentiment\",\n",
    "    \"skills\": [ \n",
    "        {\n",
    "            \"@odata.type\": \"#Microsoft.Skills.Text.KeyPhraseExtractionSkill\",\n",
    "            \"context\": \"/document/content/*\",\n",
    "            \"inputs\": [\n",
    "                { \"name\": \"text\",  \"source\": \"/document/content/*\" },\n",
    "                { \"name\": \"languageCode\",  \"source\": \"/document/language\" }\n",
    "            ],\n",
    "            \"outputs\": [\n",
    "                { \"name\": \"keyPhrases\" , \"targetName\": \"keyphrases\" }\n",
    "            ]\n",
    "        },\n",
    "    ]\n",
    "}"
   ]
  },
  {
   "cell_type": "markdown",
   "metadata": {},
   "source": [
    "## 4. Create an Indexer\n",
    "\n",
    "\n",
    "```json\n",
    "{\n",
    "  \"name\": (required) String that uniquely identifies the indexer,\n",
    "  \"dataSourceName\": (required) String, provides raw content that will be enriched,\n",
    "  \"targetIndexName\": (required) String, name of an existing index,\n",
    "  \"skillsetName\" : (required for AI enrichment) String, name of an existing skillset,\n",
    "  \"cache\":  {\n",
    "    \"storageConnectionString\" : (required if you enable the cache) Connection string to a blob container,\n",
    "    \"enableReprocessing\": true\n",
    "    },\n",
    "  \"parameters\": { },\n",
    "  \"fieldMappings\": (optional) Maps fields in the underlying data source to fields in an index,\n",
    "  \"outputFieldMappings\" : (required) Maps skill outputs to fields in an index,\n",
    "}\n",
    "```"
   ]
  },
  {
   "cell_type": "code",
   "execution_count": 6,
   "metadata": {},
   "outputs": [],
   "source": [
    "indexer_payload = {\n",
    "    \n",
    "}"
   ]
  },
  {
   "cell_type": "code",
   "execution_count": 7,
   "metadata": {},
   "outputs": [],
   "source": [
    "INDEXER_NAME = \"demo-indexer-ai-skilled-\"\n",
    "indexer= {\n",
    "  \"name\": INDEXER_NAME,\n",
    "  \"description\": \"\",\n",
    "  \"dataSourceName\": DATA_SOURCE_NAME,\n",
    "  \"skillsetName\": SKILL_NAME,\n",
    "  \"targetIndexName\": INDEX_NAME,\n",
    "  \"parameters\": {\n",
    "  },\n",
    "  \"fieldMappings\": [\n",
    "  ],\n",
    "  \"outputFieldMappings\": [\n",
    "    {\n",
    "      \"sourceFieldName\": \"/document/content/keyphrases\",\n",
    "      \"targetFieldName\": \"keyphrases\"\n",
    "    }\n",
    "  ],\n",
    "}"
   ]
  },
  {
   "cell_type": "code",
   "execution_count": null,
   "metadata": {},
   "outputs": [],
   "source": [
    "\n",
    "# Define the rest of the indexer (not shown)\n",
    "\n",
    "# Convert the indexer definition to JSON\n",
    "indexer_json = json.dumps(indexer)\n",
    "\n",
    "# Send the POST request\n",
    "url = \"https://[service name].search.windows.net/indexers?api-version=2020-06-30\"\n",
    "headers = {\"Content-Type\": \"application/json\", \"api-key\": \"[your api key]\"}\n",
    "response = requests.post(url, headers=headers, data=indexer_json)\n",
    "\n",
    "# Check the response\n",
    "if response.status_code == 201:\n",
    "    print(\"Indexer created successfully\")\n",
    "else:\n",
    "    print(f\"Error creating indexer: {response.text}\")\n"
   ]
  },
  {
   "cell_type": "code",
   "execution_count": null,
   "metadata": {},
   "outputs": [],
   "source": []
  }
 ],
 "metadata": {
  "kernelspec": {
   "display_name": "openai",
   "language": "python",
   "name": "python3"
  },
  "language_info": {
   "codemirror_mode": {
    "name": "ipython",
    "version": 3
   },
   "file_extension": ".py",
   "mimetype": "text/x-python",
   "name": "python",
   "nbconvert_exporter": "python",
   "pygments_lexer": "ipython3",
   "version": "3.10.11"
  },
  "orig_nbformat": 4
 },
 "nbformat": 4,
 "nbformat_minor": 2
}
