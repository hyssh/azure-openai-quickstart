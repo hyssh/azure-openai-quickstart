{
 "cells": [
  {
   "cell_type": "code",
   "execution_count": 2,
   "metadata": {},
   "outputs": [],
   "source": [
    "import os\n",
    "import json\n",
    "import time\n",
    "import requests\n",
    "import random\n",
    "import base64\n",
    "from collections import OrderedDict\n",
    "import urllib.request\n",
    "# from tqdm import tqdm\n",
    "import openai\n",
    "from langchain.embeddings.openai import OpenAIEmbeddings\n",
    "from dotenv import load_dotenv\n",
    "from typing import List\n",
    "\n",
    "load_dotenv()\n",
    "openai.api_type = \"azure\"\n",
    "openai.api_base = os.getenv(\"OPENAI_API_BASE\")\n",
    "openai.api_version = \"2023-03-15-preview\"\n",
    "openai.api_key = os.getenv(\"OPENAI_API_KEY\")\n",
    "DEPLOYMENT_NAME = os.getenv(\"DEPLOYMENT_NAME\")\n",
    "MODEL_NAME = os.getenv(\"MODEL_NAME\")\n",
    "ENVIRONMENT = os.getenv(\"ENVIRONMENT\")\n",
    "embedder = OpenAIEmbeddings(deployment=\"text-embedding-ada-002\") \n"
   ]
  },
  {
   "cell_type": "code",
   "execution_count": 3,
   "metadata": {},
   "outputs": [],
   "source": [
    "def get_search_results(query: str, indexes: list, \n",
    "                       k: int = 5,\n",
    "                       reranker_threshold: int = 1,\n",
    "                       sas_token: str = \"\",\n",
    "                       vector_search: bool = False,\n",
    "                       similarity_k: int = 3, \n",
    "                       query_vector: list = []) -> List[dict]:\n",
    "    \n",
    "    headers = {'Content-Type': 'application/json','api-key': os.environ[\"AZURE_SEARCH_KEY\"]}\n",
    "    params = {'api-version': os.environ['AZURE_SEARCH_API_VERSION']}\n",
    "\n",
    "    agg_search_results = dict()\n",
    "    \n",
    "    for index in indexes:\n",
    "        search_payload = {\n",
    "            \"search\": query,\n",
    "            \"queryType\": \"semantic\",\n",
    "            \"semanticConfiguration\": \"my-semantic-config\",\n",
    "            \"count\": \"true\",\n",
    "            \"speller\": \"lexicon\",\n",
    "            \"queryLanguage\": \"en-us\",\n",
    "            \"captions\": \"extractive\",\n",
    "            \"answers\": \"extractive\",\n",
    "            \"top\": k\n",
    "        }\n",
    "        if vector_search:\n",
    "            search_payload[\"vectors\"]= [{\"value\": query_vector, \"fields\": \"contentVector\",\"k\": k}]\n",
    "            search_payload[\"select\"]= \"id, title, content, name, location\"\n",
    "        else:\n",
    "            search_payload[\"select\"]= \"id, title, content, name, location\"\n",
    "        \n",
    "\n",
    "        resp = requests.post(os.environ['AZURE_SEARCH_ENDPOINT'] + \"/indexes/\" + index + \"/docs/search\",\n",
    "                         data=json.dumps(search_payload), headers=headers, params=params)\n",
    "\n",
    "        search_results = resp.json()\n",
    "        agg_search_results[index] = search_results\n",
    "\n",
    "    content = dict()\n",
    "    ordered_content = OrderedDict()\n",
    "    \n",
    "    for index,search_results in agg_search_results.items():\n",
    "        for result in search_results['value']:\n",
    "            if result['@search.rerankerScore'] > reranker_threshold: # Show results that are at least N% of the max possible score=4\n",
    "                content[result['id']]={\n",
    "                                        \"title\": result['title'], \n",
    "                                        \"name\": result['name'], \n",
    "                                        \"location\": result['location'] + sas_token if result['location'] else \"\",\n",
    "                                        \"caption\": result['@search.captions'][0]['text'],\n",
    "                                        \"index\": index\n",
    "                                    }\n",
    "                if vector_search:\n",
    "                    content[result['id']][\"content\"]= result['content']\n",
    "                    content[result['id']][\"score\"]= result['@search.rerankerScore'] # Uses the reranker score\n",
    "                    # content[result['id']][\"vectorized\"]= result['vectorized']              \n",
    "                else:\n",
    "                    content[result['id']][\"content\"]= result['content']\n",
    "                    content[result['id']][\"score\"]= result['@search.score'] # Uses the Hybrid RRF score\n",
    "                \n",
    "    # After results have been filtered, sort and add the top k to the ordered_content\n",
    "    if vector_search:\n",
    "        topk = similarity_k\n",
    "    else:\n",
    "        topk = k*len(indexes)\n",
    "        \n",
    "    count = 0  # To keep track of the number of results added\n",
    "    for id in sorted(content, key=lambda x: content[x][\"score\"], reverse=True):\n",
    "        ordered_content[id] = content[id]\n",
    "        count += 1\n",
    "        if count >= topk:  # Stop after adding 5 results\n",
    "            break\n",
    "\n",
    "    return ordered_content"
   ]
  },
  {
   "cell_type": "code",
   "execution_count": 4,
   "metadata": {},
   "outputs": [],
   "source": [
    "# QUESTION = \"Low vision devices coverage?\"\n",
    "QUESTION = \"Formulary preferred generic drugs for prescription drugs at retail pharmacy coverage in-network providers?\"\n",
    "# QUESTION = \"Can my benefit cover the device cost for Therapeutic?\"\n",
    "# QUESTION = \"Can my benefit cover the device cost for Therapeutic?\"\n"
   ]
  },
  {
   "cell_type": "code",
   "execution_count": 5,
   "metadata": {},
   "outputs": [
    {
     "data": {
      "text/plain": [
       "OrderedDict([('UHJlZmVycmVkX0dvbGRfRVBPXzE1MDBfQmVuZWZpdF8yMDIyX2luX1dhc2hpbmd0b25fMzY=',\n",
       "              {'title': '49831WA194  (01-2022) 31 Preferred Gold   We credit the difference to premium rates for the next benefit year  ',\n",
       "               'name': 'Preferred_Gold_EPO_1500_Benefit_2022_in_Washington_36',\n",
       "               'location': 'https://openaiembedding.blob.core.windows.net/document-chunks/Preferred_Gold_EPO_1500_Benefit_2022_in_Washington_36.txt',\n",
       "               'caption': \"Your prescription drug benefit uses a drug list . (This is sometimes referred to as a formulary. ) We review \\r medical studies, scientific literature and other pharmaceutical information to choose safe and effective drugs \\r for the p rescription drug formulary . This plan doesn 't cover certain categories of drugs .\",\n",
       "               'index': 'demo_index_0',\n",
       "               'content': \"49831WA194  (01-2022) 31 Preferred Gold   We credit the difference to premium rates for the next benefit year  \\r\\nIf your benefit includes a copay, coinsurance calculated as a percentage, or a deductible, the amount you pay and \\r\\nyour account calculations are based on the allowed amount.  \\r\\nIf you participate in a Health Savings Account (HSA)  Per Internal Revenue Service requirements, drug \\r\\nmanufacturer coupons and other forms of cost -share assistance cannot be used to satisfy this plans deductible.  \\r\\nYour Right to Safe and Effective Pharmacy Services  \\r\\nState and federal laws establish standards to assure safe and effective pharmacy services, and to guarantee your \\r\\nright to know what drugs are covered under this plan and what coverage limitations are in you r contract . If you \\r\\nwant more information about the drug coverage policies under this plan, or if you have a question or a concern \\r\\nabout your pharmacy benefit, please call Customer Service . The phone numbers are shown on the back cover.  \\r\\nIf you want to know more about your rights under the law, or if you think anything you received from this plan may \\r\\nnot conform to the terms of your contract, you may contact the Washington State Office of Insurance \\r\\nCommissioner at 1 -800-562-6900 . If you have a concern about t he pharmacists or pharmacies serving you, \\r\\nplease call the State Department of Health at 360 -236-4825.  \\r\\nQuestions and Answers about Your Prescription Drug Benefits  \\r\\n1. Does this plan exclude certain drugs my health care provider may prescribe, or encourage \\r\\nsubstitution for some drugs?  \\r\\nYour prescription drug benefit uses a drug list . (This is sometimes referred to as a formulary. ) We review \\r\\nmedical studies, scientific literature and other pharmaceutical information to choose safe and effective drugs \\r\\nfor the p rescription drug formulary . This plan doesn 't cover certain categories of drugs . These are listed \\r\\nabove under What 's Not Covered.  Non-formulary medications may be covered only on an exception basis \\r\\nfor members meeting medical necessity criteria .  \\r\\nCertain  formulary drugs are subject to pre -dispensing medical necessity review . As part of this review, some \\r\\nprescriptions may require additional medical information from the prescribing provider, or substitution of \\r\\nequivalent medication .  \\r\\nSee Prior Authorization  for details.  \\r\\n2. When can my plan change the prescription drug formulary ? If a change occurs, will I have to pay \\r\\nmore to use a drug I had been using?  \\r\\nThe formulary is updated frequently throughout the year . See Prescription Drug Formulary  above. If \\r\\nchanges are made to the drug list prior to the quarterly update, you will receive a letter advising you of the \\r\\nchange that may affect your cost share.  \\r\\n3. What should I do if I want a change from limitations, exclusions, substitutions or cost increa ses for \\r\\ndrugs specified in this plan?  \\r\\nThe limitations and exclusions applicable to your prescription drug benefit, including categories of drugs for \\r\\nwhich no benefits are provided, are part of this plan 's overall benefit design, and can 't be changed . \\r\\nProvi sions regarding substitution of some drugs are described above in question 1.  \\r\\nYou can appeal any decision you disagree with . Please see Complaints and Appeals , or call our Customer \\r\\nService department at the telephone numbers listed on the back cover for in formation on how to initiate an \\r\\nappeal.  \\r\\n4. How much do I have to pay to get a prescription filled?  \\r\\nThe amount you pay for covered drugs dispensed by a retail pharmacy, mail -order pharmacy or specialty \\r\\npharmacy is described in the Summary of Your Costs . \\r\\n5. Do I have to use certain pharmacies to pay the least out of my own pocket under this plan?  \\r\\nYes. You only receive benefits when you have your prescriptions filled by participating pharmacies . The \\r\\nmajority of pharmacies in Washington are part of our pharmacy  network.  \\r\\nYou can find a participating pharmacy near you by consulting your provider directory, or calling the \\r\\nPharmacy Locator Line at the toll -free telephone number found on the back of your Premera ID card.  \\r\\n6. How many days ' supply of most medications c an I get without paying another copay or other \\r\\nrepeating charge?  \\r\\nThe dispensing limits (or days ' supply) for drugs dispensed at retail pharmacies and through the mail -order \\r\\npharmacy benefit are described in the Dispensing Limit  provision above.  \",\n",
       "               'score': 19.366545}),\n",
       "             ('UHJlZmVycmVkX0dvbGRfRVBPXzE1MDBfQmVuZWZpdF8yMDIzX2luX1dhc2hpbmd0b25fMzI=',\n",
       "              {'title': '49831WA194  (01-2023) 27 Preferred Gold  services such as x -rays, lab work, therapeutic injections, facility fees, office surgeries and medical equipment and ',\n",
       "               'name': 'Preferred_Gold_EPO_1500_Benefit_2023_in_Washington_32',\n",
       "               'location': 'https://openaiembedding.blob.core.windows.net/document-chunks/Preferred_Gold_EPO_1500_Benefit_2023_in_Washington_32.txt',\n",
       "               'caption': 'Prescription Drug Formulary  \\r This benefit uses a speci fic list of covered prescription drugs, sometimes referred to as a formulary. Our \\r Pharmacy and Therapeutics Committee, which includes medical practitioners and pharmacists from the \\r community, frequently reviews current medical studies and pharmaceutical information .',\n",
       "               'index': 'demo_index_0',\n",
       "               'content': \"49831WA194  (01-2023) 27 Preferred Gold  services such as x -rays, lab work, therapeutic injections, facility fees, office surgeries and medical equipment and \\r\\nsupplies . Some outpati ent services you get from a specialist must have prior authorization . See Prior \\r\\nAuthorization  for details . See Urgent Care for care provided in an office or clinic urgent care center . See \\r\\nPreventive Care  for coverage of preventive services.  \\r\\nThis plan has a different copay for office visits with Specialists and Non -Specialists. To find out which copay you \\r\\npay to each type of provider, see Important Plan Information . \\r\\nPediat ric Care  \\r\\nThis plan covers pediatric services until the end of the month of a member 's 19th birthday, when all eligibility \\r\\nrequirements are met . These services are covered as stated on the Summary of Your Costs . \\r\\nPediatric Vision  \\r\\nCoverage for routine eye exa ms and glasses for members under 19 includes the following:  \\r\\n Vision exams including dilation and with refraction by an ophthalmologist or an optometrist . A vision exam may \\r\\nconsist of external and ophthalmoscopic examination, determination of the best correc ted visual acuity, \\r\\ndetermination of the refractive state, gross visual fields, basic sensorimotor examination and glaucoma \\r\\nscreening.  \\r\\n Glasses, frames and lenses  \\r\\n Contact lenses instead of glasses  \\r\\n Contact lenses or glasses required for medical reasons  \\r\\n Compre hensive low vision evaluation and follow up visits  \\r\\n Low vision devices, high power spectacles, magnifiers and telescopes when medically necessary  \\r\\nPrescription Drugs  \\r\\nThis plan uses  a prescription drug formulary . Please refer to your ID card for your prescription drug \\r\\nformulary.  \\r\\nSome prescription drugs require prior authorization . See Prior Authorization  for details.  \\r\\nBenefits available under this plan will be provided for off-label  use, including administration, of prescription drugs \\r\\nfor treatment of  a covered condition when use of the drug is recognized as effective for treatment of such \\r\\ncondition by one of the following:  \\r\\n One of the following standard reference compendia:  \\r\\n The American Hospital Formulary Service -Drug Information  \\r\\n The American Medical Association Drug Evaluation  \\r\\n The United States Pharmacopoeia -Drug Information  \\r\\n Other authoritative compendia as identified from time to time by the Federal Secretary of Health and Human \\r\\nServices or the Insurance Commissioner  \\r\\n If not recognized by one of the standard reference compendia cited above, then recognized by the majority of \\r\\nrelevant, peer -reviewed medical literature (original manuscripts of scientific studies published in medical or \\r\\nscientific journals after critical review for scientific accu racy, validity and reliability by independent, unbiased \\r\\nexperts)  \\r\\n The Federal Secretary of Health and Human Services  \\r\\nOff-label use  means the prescribed use of a drug that 's other than that stated in its FDA -approved labeling.  \\r\\nBenefits aren 't available for  any drug when the U.S . Food and Drug Administration (FDA) has determined its use \\r\\nto be contra -indicated, or for experimental or investigative  drugs not otherwise approved for any indication by the \\r\\nFDA.  \\r\\nPrescription Drug Formulary  \\r\\nThis benefit uses a speci fic list of covered prescription drugs, sometimes referred to as a formulary.  Our \\r\\nPharmacy and Therapeutics Committee, which includes medical practitioners and pharmacists from the \\r\\ncommunity, frequently reviews current medical studies and pharmaceutical information . The Committee then \\r\\nmakes recommendations on which drugs are includ ed on our drug lists . The drug lists are updated quarterly \\r\\nbased on the Committee 's recommendations .  \\r\\nThe formulary includes both generic and brand name drugs . Consult the Pharmacy Benefit Guide or RX Search \",\n",
       "               'score': 15.344032}),\n",
       "             ('UHJlZmVycmVkX0dvbGRfRVBPXzE1MDBfQmVuZWZpdF8yMDIyX2luX1dhc2hpbmd0b25fMTE=',\n",
       "              {'title': '49831WA1940001  (01-2022) 6 Preferred Gold   YOUR COSTS OF THE ALLOWED AMOUNT  ',\n",
       "               'name': 'Preferred_Gold_EPO_1500_Benefit_2022_in_Washington_11',\n",
       "               'location': 'https://openaiembedding.blob.core.windows.net/document-chunks/Preferred_Gold_EPO_1500_Benefit_2022_in_Washington_11.txt',\n",
       "               'caption': 'inpatient (limited to 30 days per calendar  year)  deductible, then 30%  coinsurance  not covered    outpatient (limited to 25 visits per calendar  year)  deductible, then 30%  coinsurance  not covered   skilled nursing facility care      skilled nursing facility care is limited to 60  days per calendar year  deductible, then 30%  coinsurance …',\n",
       "               'index': 'demo_index_0',\n",
       "               'content': \"49831WA1940001  (01-2022) 6 Preferred Gold   YOUR COSTS OF THE ALLOWED AMOUNT  \\r\\nIN-NETWORK PROVIDERS  OUT -OF-NETWORK PROVIDERS  \\r\\n Formulary preferred generic drugs  $30 copay, deductible waived  Not covered  \\r\\n Formulary preferred brand drugs  $135 copay deductible \\r\\nwaived  Not covered  \\r\\n Formulary non -preferred drugs  \\r\\n \\r\\n*Your cost -shares for covered prescription \\r\\ninsulin drugs will not exceed $100 per 30 -\\r\\nday supply of the drug, and the deductible \\r\\ndoes not apply. Cost -shares for covered \\r\\nprescription insulin drugs apply towards the \\r\\ndeductible  Deductible, then 50% \\r\\ncoinsurance  Not covered  \\r\\nPrescription  Drug s  Specialty Pharmacy  \\r\\nUp to a 30 -day supply.  Deductible, then 50% \\r\\ncoinsurance  Not covered  \\r\\nPreventive Care    \\r\\n Exams, screenings and immunizations \\r\\n(including seasonal immunizations in a \\r\\nprovider 's office) are limited in how often you \\r\\ncan get them based on your age and gender  No charge  Not covered  \\r\\n Seasonal and travel immunizations \\r\\n(pharmacy, mass immunizer, travel clinic \\r\\nand county health department)  No charge  No charge  \\r\\n Health education  and training (outpatient)  No charge  Not covered  \\r\\n Nicotine dependency treatment  No charge  Not covered  \\r\\n Nutritional counseling and therapy  No charge  Not covered  \\r\\n Contraception Management and Sterilization    \\r\\n Female  No charge  Not covered  \\r\\n Male  No charge  Not covered  \\r\\nPsychological and Neuropsychological \\r\\nTesting  Deductible, then 30% \\r\\ncoinsurance  Not covered  \\r\\nRehabilitation Therapy  \\r\\nSee Mental Health Care  for therapies \\r\\nprovided for mental health conditions such as \\r\\nautism.    \\r\\n Inpatient (limited to 30 days per calendar \\r\\nyear)  Deductible, then 30% \\r\\ncoinsurance  Not covered  \\r\\n Outpatient (limited to 25 visits per calendar \\r\\nyear)  Deductible, then 30% \\r\\ncoinsurance  Not covered  \\r\\nSkilled Nursing Facility Care    \\r\\n Skilled nursing facility care is limited to 60 \\r\\ndays per calendar year  Deductible, then 30% \\r\\ncoinsurance  Not covered  \\r\\n Skilled nursing care in a long -term care \\r\\nfacility is limited to 60 days per calendar \\r\\nyear Deductible, then 30% \\r\\ncoinsurance  Not covered  \\r\\nSpinal and Other Manipulati ons \\r\\nSpinal or other manipulation treatment limited \\r\\nto 10 visits per calendar year . For office visits \\r\\nsee Office and Clinic Visits . $15 copay, deductible waived  Not covered  \\r\\nSubstance Use Disorder    \",\n",
       "               'score': 14.984192})])"
      ]
     },
     "execution_count": 5,
     "metadata": {},
     "output_type": "execute_result"
    }
   ],
   "source": [
    "ordered_results = get_search_results(QUESTION, [\"demo_index_0\"], \n",
    "                                        k=3,\n",
    "                                        )\n",
    "\n",
    "ordered_results"
   ]
  },
  {
   "cell_type": "code",
   "execution_count": 6,
   "metadata": {},
   "outputs": [
    {
     "data": {
      "text/plain": [
       "OrderedDict([('UHJlZmVycmVkX0dvbGRfRVBPXzE1MDBfQmVuZWZpdF8yMDIzX2luX1dhc2hpbmd0b25fMzI=',\n",
       "              {'title': '49831WA194  (01-2023) 27 Preferred Gold  services such as x -rays, lab work, therapeutic injections, facility fees, office surgeries and medical equipment and ',\n",
       "               'name': 'Preferred_Gold_EPO_1500_Benefit_2023_in_Washington_32',\n",
       "               'location': 'https://openaiembedding.blob.core.windows.net/document-chunks/Preferred_Gold_EPO_1500_Benefit_2023_in_Washington_32.txt',\n",
       "               'caption': 'Prescription Drug Formulary  \\r This benefit uses a speci fic list of covered prescription drugs, sometimes referred to as a formulary. Our \\r Pharmacy and Therapeutics Committee, which includes medical practitioners and pharmacists from the \\r community, frequently reviews current medical studies and pharmaceutical information .',\n",
       "               'index': 'demo_index_vector',\n",
       "               'content': \"49831WA194  (01-2023) 27 Preferred Gold  services such as x -rays, lab work, therapeutic injections, facility fees, office surgeries and medical equipment and \\r\\nsupplies . Some outpati ent services you get from a specialist must have prior authorization . See Prior \\r\\nAuthorization  for details . See Urgent Care for care provided in an office or clinic urgent care center . See \\r\\nPreventive Care  for coverage of preventive services.  \\r\\nThis plan has a different copay for office visits with Specialists and Non -Specialists. To find out which copay you \\r\\npay to each type of provider, see Important Plan Information . \\r\\nPediat ric Care  \\r\\nThis plan covers pediatric services until the end of the month of a member 's 19th birthday, when all eligibility \\r\\nrequirements are met . These services are covered as stated on the Summary of Your Costs . \\r\\nPediatric Vision  \\r\\nCoverage for routine eye exa ms and glasses for members under 19 includes the following:  \\r\\n Vision exams including dilation and with refraction by an ophthalmologist or an optometrist . A vision exam may \\r\\nconsist of external and ophthalmoscopic examination, determination of the best correc ted visual acuity, \\r\\ndetermination of the refractive state, gross visual fields, basic sensorimotor examination and glaucoma \\r\\nscreening.  \\r\\n Glasses, frames and lenses  \\r\\n Contact lenses instead of glasses  \\r\\n Contact lenses or glasses required for medical reasons  \\r\\n Compre hensive low vision evaluation and follow up visits  \\r\\n Low vision devices, high power spectacles, magnifiers and telescopes when medically necessary  \\r\\nPrescription Drugs  \\r\\nThis plan uses  a prescription drug formulary . Please refer to your ID card for your prescription drug \\r\\nformulary.  \\r\\nSome prescription drugs require prior authorization . See Prior Authorization  for details.  \\r\\nBenefits available under this plan will be provided for off-label  use, including administration, of prescription drugs \\r\\nfor treatment of  a covered condition when use of the drug is recognized as effective for treatment of such \\r\\ncondition by one of the following:  \\r\\n One of the following standard reference compendia:  \\r\\n The American Hospital Formulary Service -Drug Information  \\r\\n The American Medical Association Drug Evaluation  \\r\\n The United States Pharmacopoeia -Drug Information  \\r\\n Other authoritative compendia as identified from time to time by the Federal Secretary of Health and Human \\r\\nServices or the Insurance Commissioner  \\r\\n If not recognized by one of the standard reference compendia cited above, then recognized by the majority of \\r\\nrelevant, peer -reviewed medical literature (original manuscripts of scientific studies published in medical or \\r\\nscientific journals after critical review for scientific accu racy, validity and reliability by independent, unbiased \\r\\nexperts)  \\r\\n The Federal Secretary of Health and Human Services  \\r\\nOff-label use  means the prescribed use of a drug that 's other than that stated in its FDA -approved labeling.  \\r\\nBenefits aren 't available for  any drug when the U.S . Food and Drug Administration (FDA) has determined its use \\r\\nto be contra -indicated, or for experimental or investigative  drugs not otherwise approved for any indication by the \\r\\nFDA.  \\r\\nPrescription Drug Formulary  \\r\\nThis benefit uses a speci fic list of covered prescription drugs, sometimes referred to as a formulary.  Our \\r\\nPharmacy and Therapeutics Committee, which includes medical practitioners and pharmacists from the \\r\\ncommunity, frequently reviews current medical studies and pharmaceutical information . The Committee then \\r\\nmakes recommendations on which drugs are includ ed on our drug lists . The drug lists are updated quarterly \\r\\nbased on the Committee 's recommendations .  \\r\\nThe formulary includes both generic and brand name drugs . Consult the Pharmacy Benefit Guide or RX Search \",\n",
       "               'score': 2.471583843231201}),\n",
       "             ('UHJlZmVycmVkX0dvbGRfRVBPXzE1MDBfQmVuZWZpdF8yMDIyX2luX1dhc2hpbmd0b25fMTE=',\n",
       "              {'title': '49831WA1940001  (01-2022) 6 Preferred Gold   YOUR COSTS OF THE ALLOWED AMOUNT  ',\n",
       "               'name': 'Preferred_Gold_EPO_1500_Benefit_2022_in_Washington_11',\n",
       "               'location': 'https://openaiembedding.blob.core.windows.net/document-chunks/Preferred_Gold_EPO_1500_Benefit_2022_in_Washington_11.txt',\n",
       "               'caption': 'inpatient (limited to 30 days per calendar  year)  deductible, then 30%  coinsurance  not covered    outpatient (limited to 25 visits per calendar  year)  deductible, then 30%  coinsurance  not covered   skilled nursing facility care      skilled nursing facility care is limited to 60  days per calendar year  deductible, then 30%  coinsurance …',\n",
       "               'index': 'demo_index_vector',\n",
       "               'content': \"49831WA1940001  (01-2022) 6 Preferred Gold   YOUR COSTS OF THE ALLOWED AMOUNT  \\r\\nIN-NETWORK PROVIDERS  OUT -OF-NETWORK PROVIDERS  \\r\\n Formulary preferred generic drugs  $30 copay, deductible waived  Not covered  \\r\\n Formulary preferred brand drugs  $135 copay deductible \\r\\nwaived  Not covered  \\r\\n Formulary non -preferred drugs  \\r\\n \\r\\n*Your cost -shares for covered prescription \\r\\ninsulin drugs will not exceed $100 per 30 -\\r\\nday supply of the drug, and the deductible \\r\\ndoes not apply. Cost -shares for covered \\r\\nprescription insulin drugs apply towards the \\r\\ndeductible  Deductible, then 50% \\r\\ncoinsurance  Not covered  \\r\\nPrescription  Drug s  Specialty Pharmacy  \\r\\nUp to a 30 -day supply.  Deductible, then 50% \\r\\ncoinsurance  Not covered  \\r\\nPreventive Care    \\r\\n Exams, screenings and immunizations \\r\\n(including seasonal immunizations in a \\r\\nprovider 's office) are limited in how often you \\r\\ncan get them based on your age and gender  No charge  Not covered  \\r\\n Seasonal and travel immunizations \\r\\n(pharmacy, mass immunizer, travel clinic \\r\\nand county health department)  No charge  No charge  \\r\\n Health education  and training (outpatient)  No charge  Not covered  \\r\\n Nicotine dependency treatment  No charge  Not covered  \\r\\n Nutritional counseling and therapy  No charge  Not covered  \\r\\n Contraception Management and Sterilization    \\r\\n Female  No charge  Not covered  \\r\\n Male  No charge  Not covered  \\r\\nPsychological and Neuropsychological \\r\\nTesting  Deductible, then 30% \\r\\ncoinsurance  Not covered  \\r\\nRehabilitation Therapy  \\r\\nSee Mental Health Care  for therapies \\r\\nprovided for mental health conditions such as \\r\\nautism.    \\r\\n Inpatient (limited to 30 days per calendar \\r\\nyear)  Deductible, then 30% \\r\\ncoinsurance  Not covered  \\r\\n Outpatient (limited to 25 visits per calendar \\r\\nyear)  Deductible, then 30% \\r\\ncoinsurance  Not covered  \\r\\nSkilled Nursing Facility Care    \\r\\n Skilled nursing facility care is limited to 60 \\r\\ndays per calendar year  Deductible, then 30% \\r\\ncoinsurance  Not covered  \\r\\n Skilled nursing care in a long -term care \\r\\nfacility is limited to 60 days per calendar \\r\\nyear Deductible, then 30% \\r\\ncoinsurance  Not covered  \\r\\nSpinal and Other Manipulati ons \\r\\nSpinal or other manipulation treatment limited \\r\\nto 10 visits per calendar year . For office visits \\r\\nsee Office and Clinic Visits . $15 copay, deductible waived  Not covered  \\r\\nSubstance Use Disorder    \",\n",
       "               'score': 2.387331485748291}),\n",
       "             ('UHJlZmVycmVkX0dvbGRfRVBPXzE1MDBfQmVuZWZpdF8yMDIyX2luX1dhc2hpbmd0b25fMzY=',\n",
       "              {'title': '49831WA194  (01-2022) 31 Preferred Gold   We credit the difference to premium rates for the next benefit year  ',\n",
       "               'name': 'Preferred_Gold_EPO_1500_Benefit_2022_in_Washington_36',\n",
       "               'location': 'https://openaiembedding.blob.core.windows.net/document-chunks/Preferred_Gold_EPO_1500_Benefit_2022_in_Washington_36.txt',\n",
       "               'caption': \"Your prescription drug benefit uses a drug list . (This is sometimes referred to as a formulary. ) We review \\r medical studies, scientific literature and other pharmaceutical information to choose safe and effective drugs \\r for the p rescription drug formulary . This plan doesn 't cover certain categories of drugs .\",\n",
       "               'index': 'demo_index_vector',\n",
       "               'content': \"49831WA194  (01-2022) 31 Preferred Gold   We credit the difference to premium rates for the next benefit year  \\r\\nIf your benefit includes a copay, coinsurance calculated as a percentage, or a deductible, the amount you pay and \\r\\nyour account calculations are based on the allowed amount.  \\r\\nIf you participate in a Health Savings Account (HSA)  Per Internal Revenue Service requirements, drug \\r\\nmanufacturer coupons and other forms of cost -share assistance cannot be used to satisfy this plans deductible.  \\r\\nYour Right to Safe and Effective Pharmacy Services  \\r\\nState and federal laws establish standards to assure safe and effective pharmacy services, and to guarantee your \\r\\nright to know what drugs are covered under this plan and what coverage limitations are in you r contract . If you \\r\\nwant more information about the drug coverage policies under this plan, or if you have a question or a concern \\r\\nabout your pharmacy benefit, please call Customer Service . The phone numbers are shown on the back cover.  \\r\\nIf you want to know more about your rights under the law, or if you think anything you received from this plan may \\r\\nnot conform to the terms of your contract, you may contact the Washington State Office of Insurance \\r\\nCommissioner at 1 -800-562-6900 . If you have a concern about t he pharmacists or pharmacies serving you, \\r\\nplease call the State Department of Health at 360 -236-4825.  \\r\\nQuestions and Answers about Your Prescription Drug Benefits  \\r\\n1. Does this plan exclude certain drugs my health care provider may prescribe, or encourage \\r\\nsubstitution for some drugs?  \\r\\nYour prescription drug benefit uses a drug list . (This is sometimes referred to as a formulary. ) We review \\r\\nmedical studies, scientific literature and other pharmaceutical information to choose safe and effective drugs \\r\\nfor the p rescription drug formulary . This plan doesn 't cover certain categories of drugs . These are listed \\r\\nabove under What 's Not Covered.  Non-formulary medications may be covered only on an exception basis \\r\\nfor members meeting medical necessity criteria .  \\r\\nCertain  formulary drugs are subject to pre -dispensing medical necessity review . As part of this review, some \\r\\nprescriptions may require additional medical information from the prescribing provider, or substitution of \\r\\nequivalent medication .  \\r\\nSee Prior Authorization  for details.  \\r\\n2. When can my plan change the prescription drug formulary ? If a change occurs, will I have to pay \\r\\nmore to use a drug I had been using?  \\r\\nThe formulary is updated frequently throughout the year . See Prescription Drug Formulary  above. If \\r\\nchanges are made to the drug list prior to the quarterly update, you will receive a letter advising you of the \\r\\nchange that may affect your cost share.  \\r\\n3. What should I do if I want a change from limitations, exclusions, substitutions or cost increa ses for \\r\\ndrugs specified in this plan?  \\r\\nThe limitations and exclusions applicable to your prescription drug benefit, including categories of drugs for \\r\\nwhich no benefits are provided, are part of this plan 's overall benefit design, and can 't be changed . \\r\\nProvi sions regarding substitution of some drugs are described above in question 1.  \\r\\nYou can appeal any decision you disagree with . Please see Complaints and Appeals , or call our Customer \\r\\nService department at the telephone numbers listed on the back cover for in formation on how to initiate an \\r\\nappeal.  \\r\\n4. How much do I have to pay to get a prescription filled?  \\r\\nThe amount you pay for covered drugs dispensed by a retail pharmacy, mail -order pharmacy or specialty \\r\\npharmacy is described in the Summary of Your Costs . \\r\\n5. Do I have to use certain pharmacies to pay the least out of my own pocket under this plan?  \\r\\nYes. You only receive benefits when you have your prescriptions filled by participating pharmacies . The \\r\\nmajority of pharmacies in Washington are part of our pharmacy  network.  \\r\\nYou can find a participating pharmacy near you by consulting your provider directory, or calling the \\r\\nPharmacy Locator Line at the toll -free telephone number found on the back of your Premera ID card.  \\r\\n6. How many days ' supply of most medications c an I get without paying another copay or other \\r\\nrepeating charge?  \\r\\nThe dispensing limits (or days ' supply) for drugs dispensed at retail pharmacies and through the mail -order \\r\\npharmacy benefit are described in the Dispensing Limit  provision above.  \",\n",
       "               'score': 2.3365886211395264})])"
      ]
     },
     "execution_count": 6,
     "metadata": {},
     "output_type": "execute_result"
    }
   ],
   "source": [
    "ordered_results = get_search_results(QUESTION, [\"demo_index_vector\"], \n",
    "                                        k=3,\n",
    "                                        reranker_threshold=1,\n",
    "                                        vector_search=True, \n",
    "                                        similarity_k=5,\n",
    "                                        query_vector = embedder.embed_query(QUESTION)\n",
    "                                        )\n",
    "ordered_results"
   ]
  },
  {
   "cell_type": "code",
   "execution_count": null,
   "metadata": {},
   "outputs": [],
   "source": []
  }
 ],
 "metadata": {
  "kernelspec": {
   "display_name": "openai",
   "language": "python",
   "name": "python3"
  },
  "language_info": {
   "codemirror_mode": {
    "name": "ipython",
    "version": 3
   },
   "file_extension": ".py",
   "mimetype": "text/x-python",
   "name": "python",
   "nbconvert_exporter": "python",
   "pygments_lexer": "ipython3",
   "version": "3.10.11"
  },
  "orig_nbformat": 4
 },
 "nbformat": 4,
 "nbformat_minor": 2
}
